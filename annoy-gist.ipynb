{
 "cells": [
  {
   "cell_type": "code",
   "execution_count": 2,
   "metadata": {},
   "outputs": [
    {
     "name": "stdout",
     "output_type": "stream",
     "text": [
      "Requirement already satisfied: annoy in d:\\conda\\envs\\ml\\lib\\site-packages (1.17.2)\n",
      "Requirement already satisfied: faiss in d:\\conda\\envs\\ml\\lib\\site-packages (1.7.4)\n",
      "Requirement already satisfied: numpy in d:\\conda\\envs\\ml\\lib\\site-packages (from faiss) (1.23.5)\n"
     ]
    }
   ],
   "source": [
    "!pip install annoy faiss"
   ]
  },
  {
   "attachments": {},
   "cell_type": "markdown",
   "metadata": {},
   "source": [
    "### Prepare the dataset"
   ]
  },
  {
   "cell_type": "code",
   "execution_count": 3,
   "metadata": {},
   "outputs": [
    {
     "data": {
      "text/plain": [
       "(1000000, 128)"
      ]
     },
     "execution_count": 3,
     "metadata": {},
     "output_type": "execute_result"
    }
   ],
   "source": [
    "import numpy as np \n",
    "\n",
    "sift = np.load(\"dataset/sift-128-euclidean.npy\")\n",
    "sift.shape"
   ]
  },
  {
   "attachments": {},
   "cell_type": "markdown",
   "metadata": {},
   "source": [
    "### Test the index"
   ]
  },
  {
   "cell_type": "code",
   "execution_count": 4,
   "metadata": {},
   "outputs": [],
   "source": [
    "import time\n",
    "from annoy import AnnoyIndex\n",
    "import faiss\n",
    "\n",
    "faiss.omp_set_num_threads(1)"
   ]
  },
  {
   "cell_type": "code",
   "execution_count": 6,
   "metadata": {},
   "outputs": [
    {
     "name": "stdout",
     "output_type": "stream",
     "text": [
      "[0, 2, 6, 83606, 631203, 677834, 246710, 677793, 480592, 10336, 658180, 799350, 738996, 516942, 451321, 725637, 480903, 719046, 799488, 500141, 466880, 529593, 688749, 558961, 686828, 183625, 432221, 678008, 772144, 89757, 432521, 633385, 596413, 679499, 769701, 236210, 528709, 216605, 738730, 559065, 134358, 631964, 206873, 271151, 851764, 261934, 225014, 404206, 632106, 256176, 547359, 514307, 630017, 705267, 216395, 419350, 204933, 269211, 197644, 276460, 876717, 95134, 719140, 407157, 79225, 808018, 559250, 525531, 162637, 764500, 547845, 724103, 547004, 219183, 832018, 533417, 42705, 197990, 276806, 720756, 116581, 729207, 780424, 432005, 81324, 529193, 183256, 735092, 558981, 256786, 637470, 20862, 181079, 748847, 965764, 42033, 21982, 770114, 95266, 419340]\n",
      "[[     0      2      6  83606 631203 677834 246710 677793 480592  10336\n",
      "  658180 799350 738996 516942 965310 451321 725637 480903 719046 248230\n",
      "  799488 500141 799404 466880 529593 688749 558961 686828 183625 432221\n",
      "  532473 187896 678008 772144  89757 432521 182418 633385 596413 657774\n",
      "  679499 769701 930778 236210 528709 216605 738730 192507 271323 559065\n",
      "  134358  81704 631964 206873 271151 851764 261934 225014 404206 632106\n",
      "  256176 547359 514307 523094 630017 258188 705267 216395 419350 204933\n",
      "  269211 197644 276460  65965 551986 876717 228378  95134  87235 719140\n",
      "  407157  79225 808018 559250 420871 525531 162637 764500 547845 724103\n",
      "  547004 219183 832018 533417  42705 197990 276806 720756 116581 729207]]\n"
     ]
    }
   ],
   "source": [
    "index = AnnoyIndex(f=sift.shape[1], metric='euclidean')\n",
    "\n",
    "for i in range(sift.shape[0]):\n",
    "    index.add_item(i, vector=sift[i, :])\n",
    "\n",
    "index.build(n_trees=100)\n",
    "\n",
    "I = index.get_nns_by_vector(vector=sift[0], n=100)\n",
    "print(I)\n",
    "\n",
    "flat = faiss.IndexFlatL2(sift.shape[1])\n",
    "flat.add(sift)\n",
    "\n",
    "D, FLAT_I = flat.search(sift[0].reshape(1, sift.shape[1]), k=100) \n",
    "print(FLAT_I)"
   ]
  },
  {
   "cell_type": "code",
   "execution_count": 7,
   "metadata": {},
   "outputs": [
    {
     "data": {
      "text/plain": [
       "0.82"
      ]
     },
     "execution_count": 7,
     "metadata": {},
     "output_type": "execute_result"
    }
   ],
   "source": [
    "# Calculate the recall\n",
    "\n",
    "sum([1 for i in I if i in FLAT_I]) / FLAT_I.size"
   ]
  },
  {
   "attachments": {},
   "cell_type": "markdown",
   "metadata": {},
   "source": [
    "### Benchmark"
   ]
  },
  {
   "cell_type": "code",
   "execution_count": 1,
   "metadata": {},
   "outputs": [
    {
     "ename": "NameError",
     "evalue": "name 'sift' is not defined",
     "output_type": "error",
     "traceback": [
      "\u001b[1;31m---------------------------------------------------------------------------\u001b[0m",
      "\u001b[1;31mNameError\u001b[0m                                 Traceback (most recent call last)",
      "Cell \u001b[1;32mIn[1], line 17\u001b[0m\n\u001b[0;32m     15\u001b[0m \u001b[39mfor\u001b[39;00m t_num \u001b[39min\u001b[39;00m tree_nums:\n\u001b[0;32m     16\u001b[0m     start \u001b[39m=\u001b[39m time\u001b[39m.\u001b[39mtime()\n\u001b[1;32m---> 17\u001b[0m     index \u001b[39m=\u001b[39m build_index(sift, n_trees\u001b[39m=\u001b[39mt_num)\n\u001b[0;32m     18\u001b[0m     btime \u001b[39m=\u001b[39m time\u001b[39m.\u001b[39mtime() \u001b[39m-\u001b[39m start\n\u001b[0;32m     19\u001b[0m     build_time\u001b[39m.\u001b[39mappend(btime)\n",
      "\u001b[1;31mNameError\u001b[0m: name 'sift' is not defined"
     ]
    }
   ],
   "source": [
    "import time \n",
    "\n",
    "tree_nums = [1, 10, 30, 50, 70, 90, 110, 130]\n",
    "indexes=[]\n",
    "build_time=[]\n",
    "\n",
    "def build_index(data, n_trees, metric='euclidean'):\n",
    "    index = AnnoyIndex(f=data.shape[1], metric='euclidean')\n",
    "    for i in range(data.shape[0]):\n",
    "        index.add_item(i, vector=data[i, :])\n",
    "\n",
    "    index.build(n_trees)\n",
    "    return index\n",
    "\n",
    "for t_num in tree_nums:\n",
    "    start = time.time()\n",
    "    index = build_index(sift, n_trees=t_num)\n",
    "    btime = time.time() - start\n",
    "    build_time.append(btime)\n",
    "    indexes.append(index)\n",
    "    \n",
    "print(build_time)"
   ]
  }
 ],
 "metadata": {
  "kernelspec": {
   "display_name": "ml",
   "language": "python",
   "name": "python3"
  },
  "language_info": {
   "codemirror_mode": {
    "name": "ipython",
    "version": 3
   },
   "file_extension": ".py",
   "mimetype": "text/x-python",
   "name": "python",
   "nbconvert_exporter": "python",
   "pygments_lexer": "ipython3",
   "version": "3.10.11"
  },
  "orig_nbformat": 4
 },
 "nbformat": 4,
 "nbformat_minor": 2
}
