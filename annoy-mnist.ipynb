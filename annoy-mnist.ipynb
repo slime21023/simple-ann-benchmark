{
 "cells": [
  {
   "cell_type": "code",
   "execution_count": 1,
   "metadata": {},
   "outputs": [
    {
     "name": "stdout",
     "output_type": "stream",
     "text": [
      "Requirement already satisfied: annoy in d:\\conda\\envs\\ml\\lib\\site-packages (1.17.2)\n",
      "Requirement already satisfied: tensorflow in d:\\conda\\envs\\ml\\lib\\site-packages (2.12.0)\n",
      "Requirement already satisfied: faiss in d:\\conda\\envs\\ml\\lib\\site-packages (1.7.4)\n",
      "Requirement already satisfied: tensorflow-intel==2.12.0 in d:\\conda\\envs\\ml\\lib\\site-packages (from tensorflow) (2.12.0)\n",
      "Requirement already satisfied: absl-py>=1.0.0 in d:\\conda\\envs\\ml\\lib\\site-packages (from tensorflow-intel==2.12.0->tensorflow) (1.4.0)\n",
      "Requirement already satisfied: astunparse>=1.6.0 in d:\\conda\\envs\\ml\\lib\\site-packages (from tensorflow-intel==2.12.0->tensorflow) (1.6.3)\n",
      "Requirement already satisfied: flatbuffers>=2.0 in d:\\conda\\envs\\ml\\lib\\site-packages (from tensorflow-intel==2.12.0->tensorflow) (23.5.9)\n",
      "Requirement already satisfied: gast<=0.4.0,>=0.2.1 in d:\\conda\\envs\\ml\\lib\\site-packages (from tensorflow-intel==2.12.0->tensorflow) (0.4.0)\n",
      "Requirement already satisfied: google-pasta>=0.1.1 in d:\\conda\\envs\\ml\\lib\\site-packages (from tensorflow-intel==2.12.0->tensorflow) (0.2.0)\n",
      "Requirement already satisfied: h5py>=2.9.0 in d:\\conda\\envs\\ml\\lib\\site-packages (from tensorflow-intel==2.12.0->tensorflow) (3.8.0)\n",
      "Requirement already satisfied: jax>=0.3.15 in d:\\conda\\envs\\ml\\lib\\site-packages (from tensorflow-intel==2.12.0->tensorflow) (0.4.10)\n",
      "Requirement already satisfied: libclang>=13.0.0 in d:\\conda\\envs\\ml\\lib\\site-packages (from tensorflow-intel==2.12.0->tensorflow) (16.0.0)\n",
      "Requirement already satisfied: numpy<1.24,>=1.22 in d:\\conda\\envs\\ml\\lib\\site-packages (from tensorflow-intel==2.12.0->tensorflow) (1.23.5)\n",
      "Requirement already satisfied: opt-einsum>=2.3.2 in d:\\conda\\envs\\ml\\lib\\site-packages (from tensorflow-intel==2.12.0->tensorflow) (3.3.0)\n",
      "Requirement already satisfied: packaging in d:\\conda\\envs\\ml\\lib\\site-packages (from tensorflow-intel==2.12.0->tensorflow) (23.1)\n",
      "Requirement already satisfied: protobuf!=4.21.0,!=4.21.1,!=4.21.2,!=4.21.3,!=4.21.4,!=4.21.5,<5.0.0dev,>=3.20.3 in d:\\conda\\envs\\ml\\lib\\site-packages (from tensorflow-intel==2.12.0->tensorflow) (4.23.0)\n",
      "Requirement already satisfied: setuptools in d:\\conda\\envs\\ml\\lib\\site-packages (from tensorflow-intel==2.12.0->tensorflow) (67.8.0)\n",
      "Requirement already satisfied: six>=1.12.0 in d:\\conda\\envs\\ml\\lib\\site-packages (from tensorflow-intel==2.12.0->tensorflow) (1.16.0)\n",
      "Requirement already satisfied: termcolor>=1.1.0 in d:\\conda\\envs\\ml\\lib\\site-packages (from tensorflow-intel==2.12.0->tensorflow) (2.3.0)\n",
      "Requirement already satisfied: typing-extensions>=3.6.6 in d:\\conda\\envs\\ml\\lib\\site-packages (from tensorflow-intel==2.12.0->tensorflow) (4.5.0)\n",
      "Requirement already satisfied: wrapt<1.15,>=1.11.0 in d:\\conda\\envs\\ml\\lib\\site-packages (from tensorflow-intel==2.12.0->tensorflow) (1.14.1)\n",
      "Requirement already satisfied: grpcio<2.0,>=1.24.3 in d:\\conda\\envs\\ml\\lib\\site-packages (from tensorflow-intel==2.12.0->tensorflow) (1.54.2)\n",
      "Requirement already satisfied: tensorboard<2.13,>=2.12 in d:\\conda\\envs\\ml\\lib\\site-packages (from tensorflow-intel==2.12.0->tensorflow) (2.12.3)\n",
      "Requirement already satisfied: tensorflow-estimator<2.13,>=2.12.0 in d:\\conda\\envs\\ml\\lib\\site-packages (from tensorflow-intel==2.12.0->tensorflow) (2.12.0)\n",
      "Requirement already satisfied: keras<2.13,>=2.12.0 in d:\\conda\\envs\\ml\\lib\\site-packages (from tensorflow-intel==2.12.0->tensorflow) (2.12.0)\n",
      "Requirement already satisfied: tensorflow-io-gcs-filesystem>=0.23.1 in d:\\conda\\envs\\ml\\lib\\site-packages (from tensorflow-intel==2.12.0->tensorflow) (0.31.0)\n",
      "Requirement already satisfied: wheel<1.0,>=0.23.0 in d:\\conda\\envs\\ml\\lib\\site-packages (from astunparse>=1.6.0->tensorflow-intel==2.12.0->tensorflow) (0.38.4)\n",
      "Requirement already satisfied: ml-dtypes>=0.1.0 in d:\\conda\\envs\\ml\\lib\\site-packages (from jax>=0.3.15->tensorflow-intel==2.12.0->tensorflow) (0.1.0)\n",
      "Requirement already satisfied: scipy>=1.7 in d:\\conda\\envs\\ml\\lib\\site-packages (from jax>=0.3.15->tensorflow-intel==2.12.0->tensorflow) (1.10.1)\n",
      "Requirement already satisfied: google-auth<3,>=1.6.3 in d:\\conda\\envs\\ml\\lib\\site-packages (from tensorboard<2.13,>=2.12->tensorflow-intel==2.12.0->tensorflow) (2.18.0)\n",
      "Requirement already satisfied: google-auth-oauthlib<1.1,>=0.5 in d:\\conda\\envs\\ml\\lib\\site-packages (from tensorboard<2.13,>=2.12->tensorflow-intel==2.12.0->tensorflow) (1.0.0)\n",
      "Requirement already satisfied: markdown>=2.6.8 in d:\\conda\\envs\\ml\\lib\\site-packages (from tensorboard<2.13,>=2.12->tensorflow-intel==2.12.0->tensorflow) (3.4.3)\n",
      "Requirement already satisfied: requests<3,>=2.21.0 in d:\\conda\\envs\\ml\\lib\\site-packages (from tensorboard<2.13,>=2.12->tensorflow-intel==2.12.0->tensorflow) (2.29.0)\n",
      "Requirement already satisfied: tensorboard-data-server<0.8.0,>=0.7.0 in d:\\conda\\envs\\ml\\lib\\site-packages (from tensorboard<2.13,>=2.12->tensorflow-intel==2.12.0->tensorflow) (0.7.0)\n",
      "Requirement already satisfied: werkzeug>=1.0.1 in d:\\conda\\envs\\ml\\lib\\site-packages (from tensorboard<2.13,>=2.12->tensorflow-intel==2.12.0->tensorflow) (2.3.4)\n",
      "Requirement already satisfied: cachetools<6.0,>=2.0.0 in d:\\conda\\envs\\ml\\lib\\site-packages (from google-auth<3,>=1.6.3->tensorboard<2.13,>=2.12->tensorflow-intel==2.12.0->tensorflow) (5.3.0)\n",
      "Requirement already satisfied: pyasn1-modules>=0.2.1 in d:\\conda\\envs\\ml\\lib\\site-packages (from google-auth<3,>=1.6.3->tensorboard<2.13,>=2.12->tensorflow-intel==2.12.0->tensorflow) (0.3.0)\n",
      "Requirement already satisfied: urllib3<2.0 in d:\\conda\\envs\\ml\\lib\\site-packages (from google-auth<3,>=1.6.3->tensorboard<2.13,>=2.12->tensorflow-intel==2.12.0->tensorflow) (1.26.15)\n",
      "Requirement already satisfied: rsa<5,>=3.1.4 in d:\\conda\\envs\\ml\\lib\\site-packages (from google-auth<3,>=1.6.3->tensorboard<2.13,>=2.12->tensorflow-intel==2.12.0->tensorflow) (4.9)\n",
      "Requirement already satisfied: requests-oauthlib>=0.7.0 in d:\\conda\\envs\\ml\\lib\\site-packages (from google-auth-oauthlib<1.1,>=0.5->tensorboard<2.13,>=2.12->tensorflow-intel==2.12.0->tensorflow) (1.3.1)\n",
      "Requirement already satisfied: charset-normalizer<4,>=2 in d:\\conda\\envs\\ml\\lib\\site-packages (from requests<3,>=2.21.0->tensorboard<2.13,>=2.12->tensorflow-intel==2.12.0->tensorflow) (3.1.0)\n",
      "Requirement already satisfied: idna<4,>=2.5 in d:\\conda\\envs\\ml\\lib\\site-packages (from requests<3,>=2.21.0->tensorboard<2.13,>=2.12->tensorflow-intel==2.12.0->tensorflow) (3.4)\n",
      "Requirement already satisfied: certifi>=2017.4.17 in d:\\conda\\envs\\ml\\lib\\site-packages (from requests<3,>=2.21.0->tensorboard<2.13,>=2.12->tensorflow-intel==2.12.0->tensorflow) (2023.5.7)\n",
      "Requirement already satisfied: MarkupSafe>=2.1.1 in d:\\conda\\envs\\ml\\lib\\site-packages (from werkzeug>=1.0.1->tensorboard<2.13,>=2.12->tensorflow-intel==2.12.0->tensorflow) (2.1.1)\n",
      "Requirement already satisfied: pyasn1<0.6.0,>=0.4.6 in d:\\conda\\envs\\ml\\lib\\site-packages (from pyasn1-modules>=0.2.1->google-auth<3,>=1.6.3->tensorboard<2.13,>=2.12->tensorflow-intel==2.12.0->tensorflow) (0.5.0)\n",
      "Requirement already satisfied: oauthlib>=3.0.0 in d:\\conda\\envs\\ml\\lib\\site-packages (from requests-oauthlib>=0.7.0->google-auth-oauthlib<1.1,>=0.5->tensorboard<2.13,>=2.12->tensorflow-intel==2.12.0->tensorflow) (3.2.2)\n"
     ]
    }
   ],
   "source": [
    "!pip install annoy tensorflow faiss"
   ]
  },
  {
   "attachments": {},
   "cell_type": "markdown",
   "metadata": {},
   "source": [
    "### Prepare the dataset"
   ]
  },
  {
   "cell_type": "code",
   "execution_count": 2,
   "metadata": {},
   "outputs": [
    {
     "name": "stdout",
     "output_type": "stream",
     "text": [
      "(60000, 28, 28)\n"
     ]
    },
    {
     "data": {
      "text/plain": [
       "(60000, 784)"
      ]
     },
     "execution_count": 2,
     "metadata": {},
     "output_type": "execute_result"
    }
   ],
   "source": [
    "import numpy as np\n",
    "from tensorflow import keras\n",
    "\n",
    "# Load the data and split it between train and test sets\n",
    "(x_train, y_train), (x_test, y_test) = keras.datasets.mnist.load_data()\n",
    "\n",
    "print(x_train.shape)\n",
    "\n",
    "mnist = x_train.reshape(60000, 28*28)\n",
    "mnist.shape"
   ]
  },
  {
   "attachments": {},
   "cell_type": "markdown",
   "metadata": {},
   "source": [
    "### Test the index"
   ]
  },
  {
   "cell_type": "code",
   "execution_count": 3,
   "metadata": {},
   "outputs": [],
   "source": [
    "import time\n",
    "from annoy import AnnoyIndex\n",
    "import faiss\n",
    "\n",
    "faiss.omp_set_num_threads(1)"
   ]
  },
  {
   "cell_type": "code",
   "execution_count": 4,
   "metadata": {},
   "outputs": [
    {
     "name": "stdout",
     "output_type": "stream",
     "text": [
      "[0, 32248, 8728, 18932, 30483, 24149, 42338, 52295, 26251, 50173, 53634, 24330, 54159, 57528, 1482, 53428, 18123, 31379, 52864, 10536, 29719, 36087, 30489, 23947, 20034, 52057, 33825, 31008, 22477, 47968, 54203, 19825, 1634, 27378, 33909, 15378, 24708, 34474, 26413, 16017, 46824, 46358, 1516, 34557, 16832, 21629, 29021, 10740, 24107, 5688, 52665, 1864, 5036, 39031, 1978, 40546, 52231, 24730, 21976, 36697, 25675, 54189, 11396, 42555, 33445, 52540, 44263, 19186, 24232, 54184, 14736, 33970, 5210, 59212, 8642, 22569, 15052, 2933, 6772, 22963, 6516, 832, 21244, 21583, 35838, 59846, 21210, 13502, 52559, 13862, 41980, 43997, 53812, 18162, 13193, 46698, 46968, 50187, 3188, 28384]\n",
      "[[    0 32248  8728 18932 30483 24149 42338 52295 26251 50173 53634 24330\n",
      "  54159 57528  1482 53428 18123 31379 52864 10536 29719 36087 30489 23947\n",
      "  20034 52057 33825 21654 31008 55208 22477 44282 47968 54203 19825  1634\n",
      "  27378 33909 15378 24708 34474 26413 16017 46824 46358  1516 34557 16832\n",
      "  21629 29021 10740 24107  5688 52665  1864  5036 39031  1978 40546 22322\n",
      "  52231 37284 24730  5970 21976 16945  9568 36697 25675 54189 11396 42555\n",
      "  33445 52540 44263 18404 19186 24232 54184 25762 14736 33970  5210 59212\n",
      "   8642 22569 15052  2933  6772 22963  6516   832 21244 21583 35838 59846\n",
      "  21210 13502 52559 13862]]\n"
     ]
    }
   ],
   "source": [
    "index = AnnoyIndex(f=mnist.shape[1], metric='euclidean')\n",
    "\n",
    "for i in range(mnist.shape[0]):\n",
    "    index.add_item(i, vector=mnist[i, :])\n",
    "\n",
    "index.build(n_trees=100)\n",
    "\n",
    "I = index.get_nns_by_vector(vector=mnist[0], n=100)\n",
    "print(I)\n",
    "\n",
    "flat = faiss.IndexFlatL2(mnist.shape[1])\n",
    "flat.add(mnist)\n",
    "\n",
    "D, FLAT_I = flat.search(mnist[0].reshape(1, mnist.shape[1]), k=100) \n",
    "print(FLAT_I)"
   ]
  },
  {
   "cell_type": "code",
   "execution_count": 5,
   "metadata": {},
   "outputs": [
    {
     "data": {
      "text/plain": [
       "0.9"
      ]
     },
     "execution_count": 5,
     "metadata": {},
     "output_type": "execute_result"
    }
   ],
   "source": [
    "# Calculate the recall\n",
    "\n",
    "sum([1 for i in I if i in FLAT_I]) / FLAT_I.size"
   ]
  },
  {
   "cell_type": "code",
   "execution_count": 6,
   "metadata": {},
   "outputs": [],
   "source": [
    "import os \n",
    "import numpy as np\n",
    "\n",
    "if not os.path.exists(\"save\"):\n",
    "    os.makedirs(\"save\")\n",
    "\n",
    "\n",
    "# index.save('save/t-100.ann')\n",
    "np.save('save/mnist.npy', mnist)"
   ]
  },
  {
   "cell_type": "code",
   "execution_count": 7,
   "metadata": {},
   "outputs": [],
   "source": [
    "from faiss import write_index\n",
    "write_index(flat, 'save/flat.index')"
   ]
  },
  {
   "attachments": {},
   "cell_type": "markdown",
   "metadata": {},
   "source": [
    "### Benchmark "
   ]
  },
  {
   "cell_type": "code",
   "execution_count": 8,
   "metadata": {},
   "outputs": [
    {
     "name": "stdout",
     "output_type": "stream",
     "text": [
      "[3.754587411880493, 3.936432361602783, 5.056959629058838, 7.146753549575806, 7.7451770305633545, 9.334761381149292, 11.344036340713501, 12.868558883666992]\n"
     ]
    }
   ],
   "source": [
    "import time \n",
    "\n",
    "tree_nums = [1, 10, 30, 50, 70, 90, 110, 130]\n",
    "indexes=[]\n",
    "build_time=[]\n",
    "\n",
    "def build_index(data, n_trees, metric='euclidean'):\n",
    "    index = AnnoyIndex(f=data.shape[1], metric='euclidean')\n",
    "    for i in range(data.shape[0]):\n",
    "        index.add_item(i, vector=data[i, :])\n",
    "\n",
    "    index.build(n_trees)\n",
    "    return index\n",
    "\n",
    "for t_num in tree_nums:\n",
    "    start = time.time()\n",
    "    index = build_index(mnist, n_trees=t_num)\n",
    "    btime = time.time() - start\n",
    "    build_time.append(btime)\n",
    "    indexes.append(index)\n",
    "    \n",
    "print(build_time)"
   ]
  },
  {
   "cell_type": "code",
   "execution_count": 9,
   "metadata": {},
   "outputs": [
    {
     "name": "stdout",
     "output_type": "stream",
     "text": [
      "[(0.0005792021751403808, 0.4000699999999997), (0.0010847818851470947, 0.7494000000000017), (0.001982557535171509, 0.917800000000004), (0.002742526054382324, 0.9571700000000033), (0.003198955774307251, 0.9713600000000034), (0.003629826545715332, 0.9782000000000027), (0.004008151292800903, 0.9826800000000023), (0.004355839252471924, 0.9857300000000022)]\n"
     ]
    }
   ],
   "source": [
    "def recall(pred, true):\n",
    "    return sum([1 for i in pred if i in true]) / true.size\n",
    "\n",
    "def benchmark_knn_query(data, indexes, size=1000, k=100):\n",
    "    result = []\n",
    "\n",
    "    indices = np.random.choice(data.shape[0], size, replace=False)\n",
    "    for index in indexes:\n",
    "        query_time = 0\n",
    "        cur_recall = 0\n",
    "\n",
    "        # query\n",
    "        for i in indices:\n",
    "            start = time.time()\n",
    "            qk = index.get_nns_by_vector(vector=data[i], n=k)\n",
    "            query_time += (time.time() - start)\n",
    "            D, FLAT_I = flat.search(data[i].reshape(1, data.shape[1]), k=k) \n",
    "            cur_recall += recall(qk, FLAT_I)\n",
    "        \n",
    "        result.append((query_time/1000, cur_recall/1000))\n",
    "\n",
    "    return result\n",
    "\n",
    "\n",
    "result = benchmark_knn_query(mnist, indexes) \n",
    "print(result)     "
   ]
  },
  {
   "cell_type": "code",
   "execution_count": 10,
   "metadata": {},
   "outputs": [
    {
     "data": {
      "image/png": "[encoded data removed]",
      "text/plain": [
       "<Figure size 640x480 with 1 Axes>"
      ]
     },
     "metadata": {},
     "output_type": "display_data"
    }
   ],
   "source": [
    "import pandas as pd\n",
    "\n",
    "df = pd.DataFrame(result, columns=['query_time', 'recall'])\n",
    "df['QPS'] = 1 / df['query_time']\n",
    "df.plot(x='recall', y='QPS',style='.-')\n",
    "\n",
    "import os  \n",
    "os.makedirs('results', exist_ok=True)\n",
    "df.to_csv('results/annoy-mnist.csv')"
   ]
  }
 ],
 "metadata": {
  "kernelspec": {
   "display_name": "ml",
   "language": "python",
   "name": "python3"
  },
  "language_info": {
   "codemirror_mode": {
    "name": "ipython",
    "version": 3
   },
   "file_extension": ".py",
   "mimetype": "text/x-python",
   "name": "python",
   "nbconvert_exporter": "python",
   "pygments_lexer": "ipython3",
   "version": "3.10.11"
  },
  "orig_nbformat": 4
 },
 "nbformat": 4,
 "nbformat_minor": 2
}
