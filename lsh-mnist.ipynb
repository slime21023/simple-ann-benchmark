{
 "cells": [
  {
   "cell_type": "code",
   "execution_count": 1,
   "metadata": {},
   "outputs": [
    {
     "name": "stdout",
     "output_type": "stream",
     "text": [
      "Requirement already satisfied: tensorflow in d:\\conda\\envs\\ml\\lib\\site-packages (2.12.0)\n",
      "Requirement already satisfied: faiss in d:\\conda\\envs\\ml\\lib\\site-packages (1.7.4)\n",
      "Requirement already satisfied: tensorflow-intel==2.12.0 in d:\\conda\\envs\\ml\\lib\\site-packages (from tensorflow) (2.12.0)\n",
      "Requirement already satisfied: absl-py>=1.0.0 in d:\\conda\\envs\\ml\\lib\\site-packages (from tensorflow-intel==2.12.0->tensorflow) (1.4.0)\n",
      "Requirement already satisfied: astunparse>=1.6.0 in d:\\conda\\envs\\ml\\lib\\site-packages (from tensorflow-intel==2.12.0->tensorflow) (1.6.3)\n",
      "Requirement already satisfied: flatbuffers>=2.0 in d:\\conda\\envs\\ml\\lib\\site-packages (from tensorflow-intel==2.12.0->tensorflow) (23.5.9)\n",
      "Requirement already satisfied: gast<=0.4.0,>=0.2.1 in d:\\conda\\envs\\ml\\lib\\site-packages (from tensorflow-intel==2.12.0->tensorflow) (0.4.0)\n",
      "Requirement already satisfied: google-pasta>=0.1.1 in d:\\conda\\envs\\ml\\lib\\site-packages (from tensorflow-intel==2.12.0->tensorflow) (0.2.0)\n",
      "Requirement already satisfied: h5py>=2.9.0 in d:\\conda\\envs\\ml\\lib\\site-packages (from tensorflow-intel==2.12.0->tensorflow) (3.8.0)\n",
      "Requirement already satisfied: jax>=0.3.15 in d:\\conda\\envs\\ml\\lib\\site-packages (from tensorflow-intel==2.12.0->tensorflow) (0.4.10)\n",
      "Requirement already satisfied: libclang>=13.0.0 in d:\\conda\\envs\\ml\\lib\\site-packages (from tensorflow-intel==2.12.0->tensorflow) (16.0.0)\n",
      "Requirement already satisfied: numpy<1.24,>=1.22 in d:\\conda\\envs\\ml\\lib\\site-packages (from tensorflow-intel==2.12.0->tensorflow) (1.23.5)\n",
      "Requirement already satisfied: opt-einsum>=2.3.2 in d:\\conda\\envs\\ml\\lib\\site-packages (from tensorflow-intel==2.12.0->tensorflow) (3.3.0)\n",
      "Requirement already satisfied: packaging in d:\\conda\\envs\\ml\\lib\\site-packages (from tensorflow-intel==2.12.0->tensorflow) (23.1)\n",
      "Requirement already satisfied: protobuf!=4.21.0,!=4.21.1,!=4.21.2,!=4.21.3,!=4.21.4,!=4.21.5,<5.0.0dev,>=3.20.3 in d:\\conda\\envs\\ml\\lib\\site-packages (from tensorflow-intel==2.12.0->tensorflow) (4.23.0)\n",
      "Requirement already satisfied: setuptools in d:\\conda\\envs\\ml\\lib\\site-packages (from tensorflow-intel==2.12.0->tensorflow) (67.8.0)\n",
      "Requirement already satisfied: six>=1.12.0 in d:\\conda\\envs\\ml\\lib\\site-packages (from tensorflow-intel==2.12.0->tensorflow) (1.16.0)\n",
      "Requirement already satisfied: termcolor>=1.1.0 in d:\\conda\\envs\\ml\\lib\\site-packages (from tensorflow-intel==2.12.0->tensorflow) (2.3.0)\n",
      "Requirement already satisfied: typing-extensions>=3.6.6 in d:\\conda\\envs\\ml\\lib\\site-packages (from tensorflow-intel==2.12.0->tensorflow) (4.5.0)\n",
      "Requirement already satisfied: wrapt<1.15,>=1.11.0 in d:\\conda\\envs\\ml\\lib\\site-packages (from tensorflow-intel==2.12.0->tensorflow) (1.14.1)\n",
      "Requirement already satisfied: grpcio<2.0,>=1.24.3 in d:\\conda\\envs\\ml\\lib\\site-packages (from tensorflow-intel==2.12.0->tensorflow) (1.54.2)\n",
      "Requirement already satisfied: tensorboard<2.13,>=2.12 in d:\\conda\\envs\\ml\\lib\\site-packages (from tensorflow-intel==2.12.0->tensorflow) (2.12.3)\n",
      "Requirement already satisfied: tensorflow-estimator<2.13,>=2.12.0 in d:\\conda\\envs\\ml\\lib\\site-packages (from tensorflow-intel==2.12.0->tensorflow) (2.12.0)\n",
      "Requirement already satisfied: keras<2.13,>=2.12.0 in d:\\conda\\envs\\ml\\lib\\site-packages (from tensorflow-intel==2.12.0->tensorflow) (2.12.0)\n",
      "Requirement already satisfied: tensorflow-io-gcs-filesystem>=0.23.1 in d:\\conda\\envs\\ml\\lib\\site-packages (from tensorflow-intel==2.12.0->tensorflow) (0.31.0)\n",
      "Requirement already satisfied: wheel<1.0,>=0.23.0 in d:\\conda\\envs\\ml\\lib\\site-packages (from astunparse>=1.6.0->tensorflow-intel==2.12.0->tensorflow) (0.38.4)\n",
      "Requirement already satisfied: ml-dtypes>=0.1.0 in d:\\conda\\envs\\ml\\lib\\site-packages (from jax>=0.3.15->tensorflow-intel==2.12.0->tensorflow) (0.1.0)\n",
      "Requirement already satisfied: scipy>=1.7 in d:\\conda\\envs\\ml\\lib\\site-packages (from jax>=0.3.15->tensorflow-intel==2.12.0->tensorflow) (1.10.1)\n",
      "Requirement already satisfied: google-auth<3,>=1.6.3 in d:\\conda\\envs\\ml\\lib\\site-packages (from tensorboard<2.13,>=2.12->tensorflow-intel==2.12.0->tensorflow) (2.18.0)\n",
      "Requirement already satisfied: google-auth-oauthlib<1.1,>=0.5 in d:\\conda\\envs\\ml\\lib\\site-packages (from tensorboard<2.13,>=2.12->tensorflow-intel==2.12.0->tensorflow) (1.0.0)\n",
      "Requirement already satisfied: markdown>=2.6.8 in d:\\conda\\envs\\ml\\lib\\site-packages (from tensorboard<2.13,>=2.12->tensorflow-intel==2.12.0->tensorflow) (3.4.3)\n",
      "Requirement already satisfied: requests<3,>=2.21.0 in d:\\conda\\envs\\ml\\lib\\site-packages (from tensorboard<2.13,>=2.12->tensorflow-intel==2.12.0->tensorflow) (2.29.0)\n",
      "Requirement already satisfied: tensorboard-data-server<0.8.0,>=0.7.0 in d:\\conda\\envs\\ml\\lib\\site-packages (from tensorboard<2.13,>=2.12->tensorflow-intel==2.12.0->tensorflow) (0.7.0)\n",
      "Requirement already satisfied: werkzeug>=1.0.1 in d:\\conda\\envs\\ml\\lib\\site-packages (from tensorboard<2.13,>=2.12->tensorflow-intel==2.12.0->tensorflow) (2.3.4)\n",
      "Requirement already satisfied: cachetools<6.0,>=2.0.0 in d:\\conda\\envs\\ml\\lib\\site-packages (from google-auth<3,>=1.6.3->tensorboard<2.13,>=2.12->tensorflow-intel==2.12.0->tensorflow) (5.3.0)\n",
      "Requirement already satisfied: pyasn1-modules>=0.2.1 in d:\\conda\\envs\\ml\\lib\\site-packages (from google-auth<3,>=1.6.3->tensorboard<2.13,>=2.12->tensorflow-intel==2.12.0->tensorflow) (0.3.0)\n",
      "Requirement already satisfied: urllib3<2.0 in d:\\conda\\envs\\ml\\lib\\site-packages (from google-auth<3,>=1.6.3->tensorboard<2.13,>=2.12->tensorflow-intel==2.12.0->tensorflow) (1.26.15)\n",
      "Requirement already satisfied: rsa<5,>=3.1.4 in d:\\conda\\envs\\ml\\lib\\site-packages (from google-auth<3,>=1.6.3->tensorboard<2.13,>=2.12->tensorflow-intel==2.12.0->tensorflow) (4.9)\n",
      "Requirement already satisfied: requests-oauthlib>=0.7.0 in d:\\conda\\envs\\ml\\lib\\site-packages (from google-auth-oauthlib<1.1,>=0.5->tensorboard<2.13,>=2.12->tensorflow-intel==2.12.0->tensorflow) (1.3.1)\n",
      "Requirement already satisfied: charset-normalizer<4,>=2 in d:\\conda\\envs\\ml\\lib\\site-packages (from requests<3,>=2.21.0->tensorboard<2.13,>=2.12->tensorflow-intel==2.12.0->tensorflow) (3.1.0)\n",
      "Requirement already satisfied: idna<4,>=2.5 in d:\\conda\\envs\\ml\\lib\\site-packages (from requests<3,>=2.21.0->tensorboard<2.13,>=2.12->tensorflow-intel==2.12.0->tensorflow) (3.4)\n",
      "Requirement already satisfied: certifi>=2017.4.17 in d:\\conda\\envs\\ml\\lib\\site-packages (from requests<3,>=2.21.0->tensorboard<2.13,>=2.12->tensorflow-intel==2.12.0->tensorflow) (2023.5.7)\n",
      "Requirement already satisfied: MarkupSafe>=2.1.1 in d:\\conda\\envs\\ml\\lib\\site-packages (from werkzeug>=1.0.1->tensorboard<2.13,>=2.12->tensorflow-intel==2.12.0->tensorflow) (2.1.1)\n",
      "Requirement already satisfied: pyasn1<0.6.0,>=0.4.6 in d:\\conda\\envs\\ml\\lib\\site-packages (from pyasn1-modules>=0.2.1->google-auth<3,>=1.6.3->tensorboard<2.13,>=2.12->tensorflow-intel==2.12.0->tensorflow) (0.5.0)\n",
      "Requirement already satisfied: oauthlib>=3.0.0 in d:\\conda\\envs\\ml\\lib\\site-packages (from requests-oauthlib>=0.7.0->google-auth-oauthlib<1.1,>=0.5->tensorboard<2.13,>=2.12->tensorflow-intel==2.12.0->tensorflow) (3.2.2)\n"
     ]
    }
   ],
   "source": [
    "!pip install tensorflow faiss"
   ]
  },
  {
   "attachments": {},
   "cell_type": "markdown",
   "metadata": {},
   "source": [
    "### Prepare the dataset"
   ]
  },
  {
   "cell_type": "code",
   "execution_count": 2,
   "metadata": {},
   "outputs": [
    {
     "name": "stdout",
     "output_type": "stream",
     "text": [
      "(60000, 28, 28)\n"
     ]
    },
    {
     "data": {
      "text/plain": [
       "(60000, 784)"
      ]
     },
     "execution_count": 2,
     "metadata": {},
     "output_type": "execute_result"
    }
   ],
   "source": [
    "import numpy as np\n",
    "from tensorflow import keras\n",
    "\n",
    "# Load the data and split it between train and test sets\n",
    "(x_train, y_train), (x_test, y_test) = keras.datasets.mnist.load_data()\n",
    "\n",
    "print(x_train.shape)\n",
    "\n",
    "mnist = x_train.reshape(60000, 28*28)\n",
    "mnist.shape"
   ]
  },
  {
   "attachments": {},
   "cell_type": "markdown",
   "metadata": {},
   "source": [
    "### Test the index"
   ]
  },
  {
   "cell_type": "code",
   "execution_count": 3,
   "metadata": {},
   "outputs": [],
   "source": [
    "import time\n",
    "import faiss\n",
    "\n",
    "faiss.omp_set_num_threads(1)"
   ]
  },
  {
   "cell_type": "code",
   "execution_count": 4,
   "metadata": {},
   "outputs": [
    {
     "name": "stdout",
     "output_type": "stream",
     "text": [
      "[[   40 19446 47434 34359 17928  3604  3714 34613  3418 50709 15786 44210\n",
      "  32765 57855 39095 33992 20810  8166 45366  5530 31045 46984 49512  9161\n",
      "   6665 18852 45220 43770 34426  2762 37518 49964 18741 23492 47440 49440\n",
      "  56559 11412 36240 21379   838 30337  1910 41852 43286 11178 40516 29666\n",
      "  54611 12952 49876 23219  9173 56192 26960 44158 32979 55080 34423 23396\n",
      "  40694 11432 14234 25822 36968 40348 40864 46507 46915 48444 15380 22794\n",
      "  30209 14126 18389  4766 16932 37948 50326 34483  4140 18258 52362  4772\n",
      "  27028 31916 33942 26059 30969 11982 19421  2197 40140 46461  1945 42404\n",
      "  56696  2227 25606 50842]]\n",
      "[[   40 19446 34359 47434 34613 50709 17928  3604  3714  3418 44210 57855\n",
      "  45366 32765  5530 49512 18741 33992 18852 15786 45220  6665   838 37518\n",
      "  43770 46984  9161 49440 34426 25822 36240 20810 40694 31045  2762 23492\n",
      "  47440 30337 56559  8166 29666 49964 36968 40864 39095 21379  4772 14234\n",
      "  44158 55080  1910 34423 46507 11178 48444 37014 16932  9173 12436 56192\n",
      "  49876 15380 32979 14126 52362  8602 37948 11412  4766 20760 26960 18389\n",
      "  16345 17711 30209 56980 22794 40140 31916 53436 12952 35108 50842 54816\n",
      "   7060 23396 40516 32859 41852  4070 41640 27028 45693 33942 45926  2227\n",
      "  43286 25899 44556 46470]]\n"
     ]
    }
   ],
   "source": [
    "d = mnist.shape[1]\n",
    "\n",
    "nbits = 6000\n",
    "\n",
    "LSH = faiss.IndexLSH(d, nbits)\n",
    "LSH.add(mnist)\n",
    "\n",
    "D, I = LSH.search(mnist[40].reshape(1, mnist.shape[1]), 100)\n",
    "print(I)\n",
    "\n",
    "flat = faiss.IndexFlatL2(mnist.shape[1])\n",
    "flat.add(mnist)\n",
    "\n",
    "D, FLAT_I = flat.search(mnist[40].reshape(1, mnist.shape[1]), k=100) \n",
    "print(FLAT_I)"
   ]
  },
  {
   "cell_type": "code",
   "execution_count": 5,
   "metadata": {},
   "outputs": [
    {
     "data": {
      "text/plain": [
       "81"
      ]
     },
     "execution_count": 5,
     "metadata": {},
     "output_type": "execute_result"
    }
   ],
   "source": [
    "# Calculate the recall\n",
    "I = I.flatten()\n",
    "FLAT_I = FLAT_I.flatten()\n",
    "sum([1 for i in I if i in FLAT_I])"
   ]
  },
  {
   "cell_type": "code",
   "execution_count": 6,
   "metadata": {},
   "outputs": [],
   "source": [
    "from faiss import write_index\n",
    "write_index(LSH, 'save/LSH-6000.index')"
   ]
  },
  {
   "attachments": {},
   "cell_type": "markdown",
   "metadata": {},
   "source": [
    "### Benchmark"
   ]
  },
  {
   "cell_type": "code",
   "execution_count": 7,
   "metadata": {},
   "outputs": [
    {
     "name": "stdout",
     "output_type": "stream",
     "text": [
      "[0.22424030303955078, 0.2881886959075928, 0.4089021682739258, 0.7691531181335449, 1.1667346954345703, 4.1549835205078125, 18.87922167778015]\n"
     ]
    }
   ],
   "source": [
    "import time\n",
    "\n",
    "bits = [128, 256, 512, 1024, 2048, 4096, 8126]\n",
    "indexes =[]\n",
    "build_time=[]\n",
    "\n",
    "def build_index(data, n_bits):\n",
    "    index = faiss.IndexLSH(data.shape[1], n_bits)\n",
    "    index.add(data)\n",
    "    return index\n",
    "\n",
    "for n_bits in bits:\n",
    "    start = time.time()\n",
    "    index = build_index(mnist, n_bits=n_bits)\n",
    "    btime = time.time() - start\n",
    "    build_time.append(btime)\n",
    "    indexes.append(index)\n",
    "\n",
    "print(build_time)"
   ]
  },
  {
   "cell_type": "code",
   "execution_count": 9,
   "metadata": {},
   "outputs": [
    {
     "name": "stdout",
     "output_type": "stream",
     "text": [
      "[(0.0001959972381591797, 0.3723600000000001), (0.000384181022644043, 0.49315000000000037), (0.0007601253986358643, 0.5845600000000002), (0.001181215524673462, 0.6425999999999997), (0.002163499355316162, 0.6699200000000004), (0.004670454740524292, 0.6890999999999998), (0.008460121154785156, 0.69947)]\n"
     ]
    }
   ],
   "source": [
    "def recall(pred, true):\n",
    "    return sum([1 for i in pred if i in true]) / true.size\n",
    "\n",
    "def benchmark_knn_query(data, indexes, size=1000, k=100):\n",
    "    result = []\n",
    "\n",
    "    indices = np.random.choice(data.shape[0], size, replace=False)\n",
    "    for index in indexes:\n",
    "        query_time = 0\n",
    "        cur_recall = 0\n",
    "\n",
    "        # query\n",
    "        for i in indices:\n",
    "            start = time.time()\n",
    "            D, I = index.search(data[i].reshape(1, data.shape[1]), k=k)\n",
    "            query_time += (time.time() - start)\n",
    "            D, FLAT_I = flat.search(data[i].reshape(1, data.shape[1]), k=k) \n",
    "            cur_recall += recall(I.flatten(), FLAT_I.flatten())\n",
    "        \n",
    "        result.append((query_time/1000, cur_recall/1000))\n",
    "\n",
    "    return result\n",
    "\n",
    "result = benchmark_knn_query(mnist, indexes) \n",
    "\n",
    "\n",
    "print(result)    "
   ]
  },
  {
   "cell_type": "code",
   "execution_count": 10,
   "metadata": {},
   "outputs": [
    {
     "data": {
      "image/png": "[encoded data removed]",
      "text/plain": [
       "<Figure size 640x480 with 1 Axes>"
      ]
     },
     "metadata": {},
     "output_type": "display_data"
    }
   ],
   "source": [
    "import pandas as pd\n",
    "\n",
    "df = pd.DataFrame(result, columns=['query_time', 'recall'])\n",
    "df['QPS'] = 1 / df['query_time']\n",
    "df.plot(x='recall', y='QPS',style='+-')\n",
    "\n",
    "import os  \n",
    "os.makedirs('results', exist_ok=True)\n",
    "df.to_csv('results/lsh-mnist.csv')"
   ]
  },
  {
   "cell_type": "code",
   "execution_count": null,
   "metadata": {},
   "outputs": [],
   "source": [
    "from faiss import write_index\n",
    "write_index(indexes[-1], 'save/LSH-8126.index')"
   ]
  }
 ],
 "metadata": {
  "kernelspec": {
   "display_name": "ml",
   "language": "python",
   "name": "python3"
  },
  "language_info": {
   "codemirror_mode": {
    "name": "ipython",
    "version": 3
   },
   "file_extension": ".py",
   "mimetype": "text/x-python",
   "name": "python",
   "nbconvert_exporter": "python",
   "pygments_lexer": "ipython3",
   "version": "3.10.11"
  },
  "orig_nbformat": 4
 },
 "nbformat": 4,
 "nbformat_minor": 2
}
