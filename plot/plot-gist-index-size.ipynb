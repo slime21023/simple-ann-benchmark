{
 "cells": [
  {
   "cell_type": "code",
   "execution_count": 1,
   "metadata": {},
   "outputs": [],
   "source": [
    "import pandas as pd\n",
    "\n",
    "annoy_df = pd.read_csv('../results/index-size/gist-ann.csv')\n",
    "hnsw_df = pd.read_csv('../results/index-size/gist-hnsw.csv')\n",
    "\n",
    "size = 1920000.128\n",
    "\n",
    "annoy_df['size']  = annoy_df['size'] - size\n",
    "hnsw_df['size'] = hnsw_df['size'] - size\n",
    "\n",
    "annoy_df['method'] = \"annoy\"\n",
    "hnsw_df['method'] = \"hnsw\""
   ]
  },
  {
   "cell_type": "code",
   "execution_count": 2,
   "metadata": {},
   "outputs": [
    {
     "data": {
      "text/html": [
       "<div>\n",
       "<style scoped>\n",
       "    .dataframe tbody tr th:only-of-type {\n",
       "        vertical-align: middle;\n",
       "    }\n",
       "\n",
       "    .dataframe tbody tr th {\n",
       "        vertical-align: top;\n",
       "    }\n",
       "\n",
       "    .dataframe thead th {\n",
       "        text-align: right;\n",
       "    }\n",
       "</style>\n",
       "<table border=\"1\" class=\"dataframe\">\n",
       "  <thead>\n",
       "    <tr style=\"text-align: right;\">\n",
       "      <th></th>\n",
       "      <th>recall</th>\n",
       "      <th>size</th>\n",
       "      <th>tree_nums</th>\n",
       "      <th>method</th>\n",
       "    </tr>\n",
       "  </thead>\n",
       "  <tbody>\n",
       "    <tr>\n",
       "      <th>10</th>\n",
       "      <td>0.62939</td>\n",
       "      <td>590835.77825</td>\n",
       "      <td>110</td>\n",
       "      <td>annoy</td>\n",
       "    </tr>\n",
       "    <tr>\n",
       "      <th>11</th>\n",
       "      <td>0.62883</td>\n",
       "      <td>647591.27825</td>\n",
       "      <td>120</td>\n",
       "      <td>annoy</td>\n",
       "    </tr>\n",
       "    <tr>\n",
       "      <th>12</th>\n",
       "      <td>0.64425</td>\n",
       "      <td>704708.27825</td>\n",
       "      <td>130</td>\n",
       "      <td>annoy</td>\n",
       "    </tr>\n",
       "    <tr>\n",
       "      <th>13</th>\n",
       "      <td>0.66107</td>\n",
       "      <td>761765.02825</td>\n",
       "      <td>140</td>\n",
       "      <td>annoy</td>\n",
       "    </tr>\n",
       "    <tr>\n",
       "      <th>14</th>\n",
       "      <td>0.68635</td>\n",
       "      <td>818987.46575</td>\n",
       "      <td>150</td>\n",
       "      <td>annoy</td>\n",
       "    </tr>\n",
       "  </tbody>\n",
       "</table>\n",
       "</div>"
      ],
      "text/plain": [
       "     recall          size  tree_nums method\n",
       "10  0.62939  590835.77825        110  annoy\n",
       "11  0.62883  647591.27825        120  annoy\n",
       "12  0.64425  704708.27825        130  annoy\n",
       "13  0.66107  761765.02825        140  annoy\n",
       "14  0.68635  818987.46575        150  annoy"
      ]
     },
     "execution_count": 2,
     "metadata": {},
     "output_type": "execute_result"
    }
   ],
   "source": [
    "annoy_df.tail()"
   ]
  },
  {
   "cell_type": "code",
   "execution_count": 3,
   "metadata": {},
   "outputs": [
    {
     "data": {
      "text/html": [
       "<div>\n",
       "<style scoped>\n",
       "    .dataframe tbody tr th:only-of-type {\n",
       "        vertical-align: middle;\n",
       "    }\n",
       "\n",
       "    .dataframe tbody tr th {\n",
       "        vertical-align: top;\n",
       "    }\n",
       "\n",
       "    .dataframe thead th {\n",
       "        text-align: right;\n",
       "    }\n",
       "</style>\n",
       "<table border=\"1\" class=\"dataframe\">\n",
       "  <thead>\n",
       "    <tr style=\"text-align: right;\">\n",
       "      <th></th>\n",
       "      <th>recall</th>\n",
       "      <th>size</th>\n",
       "      <th>M</th>\n",
       "      <th>method</th>\n",
       "    </tr>\n",
       "  </thead>\n",
       "  <tbody>\n",
       "    <tr>\n",
       "      <th>4</th>\n",
       "      <td>0.68260</td>\n",
       "      <td>150347.905203</td>\n",
       "      <td>48</td>\n",
       "      <td>hnsw</td>\n",
       "    </tr>\n",
       "    <tr>\n",
       "      <th>5</th>\n",
       "      <td>0.71636</td>\n",
       "      <td>181598.780203</td>\n",
       "      <td>56</td>\n",
       "      <td>hnsw</td>\n",
       "    </tr>\n",
       "    <tr>\n",
       "      <th>6</th>\n",
       "      <td>0.72263</td>\n",
       "      <td>212842.455984</td>\n",
       "      <td>64</td>\n",
       "      <td>hnsw</td>\n",
       "    </tr>\n",
       "    <tr>\n",
       "      <th>7</th>\n",
       "      <td>0.74420</td>\n",
       "      <td>244081.018484</td>\n",
       "      <td>72</td>\n",
       "      <td>hnsw</td>\n",
       "    </tr>\n",
       "    <tr>\n",
       "      <th>8</th>\n",
       "      <td>0.75434</td>\n",
       "      <td>275324.768484</td>\n",
       "      <td>80</td>\n",
       "      <td>hnsw</td>\n",
       "    </tr>\n",
       "    <tr>\n",
       "      <th>9</th>\n",
       "      <td>0.75520</td>\n",
       "      <td>306557.143484</td>\n",
       "      <td>88</td>\n",
       "      <td>hnsw</td>\n",
       "    </tr>\n",
       "    <tr>\n",
       "      <th>10</th>\n",
       "      <td>0.77142</td>\n",
       "      <td>337805.705984</td>\n",
       "      <td>96</td>\n",
       "      <td>hnsw</td>\n",
       "    </tr>\n",
       "    <tr>\n",
       "      <th>11</th>\n",
       "      <td>0.77901</td>\n",
       "      <td>369063.112234</td>\n",
       "      <td>104</td>\n",
       "      <td>hnsw</td>\n",
       "    </tr>\n",
       "    <tr>\n",
       "      <th>12</th>\n",
       "      <td>0.78006</td>\n",
       "      <td>400308.955984</td>\n",
       "      <td>112</td>\n",
       "      <td>hnsw</td>\n",
       "    </tr>\n",
       "    <tr>\n",
       "      <th>13</th>\n",
       "      <td>0.78769</td>\n",
       "      <td>431566.955984</td>\n",
       "      <td>120</td>\n",
       "      <td>hnsw</td>\n",
       "    </tr>\n",
       "    <tr>\n",
       "      <th>14</th>\n",
       "      <td>0.79345</td>\n",
       "      <td>462825.455984</td>\n",
       "      <td>128</td>\n",
       "      <td>hnsw</td>\n",
       "    </tr>\n",
       "  </tbody>\n",
       "</table>\n",
       "</div>"
      ],
      "text/plain": [
       "     recall           size    M method\n",
       "4   0.68260  150347.905203   48   hnsw\n",
       "5   0.71636  181598.780203   56   hnsw\n",
       "6   0.72263  212842.455984   64   hnsw\n",
       "7   0.74420  244081.018484   72   hnsw\n",
       "8   0.75434  275324.768484   80   hnsw\n",
       "9   0.75520  306557.143484   88   hnsw\n",
       "10  0.77142  337805.705984   96   hnsw\n",
       "11  0.77901  369063.112234  104   hnsw\n",
       "12  0.78006  400308.955984  112   hnsw\n",
       "13  0.78769  431566.955984  120   hnsw\n",
       "14  0.79345  462825.455984  128   hnsw"
      ]
     },
     "execution_count": 3,
     "metadata": {},
     "output_type": "execute_result"
    }
   ],
   "source": [
    "hnsw_df.tail(11)"
   ]
  },
  {
   "cell_type": "code",
   "execution_count": 15,
   "metadata": {},
   "outputs": [
    {
     "name": "stdout",
     "output_type": "stream",
     "text": [
      "recall min, recall max, size min, size max\n",
      "0.22923 0.6863500000000003 20132.715749999974 818987.46575\n",
      "0.3330999999999999 0.7934500000000001 25449.616140624974 462825.455984375\n",
      "     recall          size  tree_nums method\n",
      "5   0.51450  305853.27825         60  annoy\n",
      "6   0.54329  362827.18450         70  annoy\n",
      "7   0.57452  419816.15325         80  annoy\n",
      "8   0.59204  476526.46575         90  annoy\n",
      "9   0.61442  533816.68450        100  annoy\n",
      "10  0.62939  590835.77825        110  annoy\n",
      "11  0.62883  647591.27825        120  annoy\n",
      "12  0.64425  704708.27825        130  annoy\n",
      "13  0.66107  761765.02825        140  annoy\n",
      "14  0.68635  818987.46575        150  annoy\n",
      "     recall           size    M method\n",
      "5   0.71636  181598.780203   56   hnsw\n",
      "6   0.72263  212842.455984   64   hnsw\n",
      "7   0.74420  244081.018484   72   hnsw\n",
      "8   0.75434  275324.768484   80   hnsw\n",
      "9   0.75520  306557.143484   88   hnsw\n",
      "10  0.77142  337805.705984   96   hnsw\n",
      "11  0.77901  369063.112234  104   hnsw\n",
      "12  0.78006  400308.955984  112   hnsw\n",
      "13  0.78769  431566.955984  120   hnsw\n",
      "14  0.79345  462825.455984  128   hnsw\n"
     ]
    }
   ],
   "source": [
    "cols = ['method', 'size', 'recall']\n",
    "\n",
    "df = pd.concat([annoy_df[cols].tail(11), hnsw_df[cols].tail(10)])\n",
    "print(\"recall min, recall max, size min, size max\")\n",
    "print(annoy_df[\"recall\"].min(), annoy_df[\"recall\"].max(), annoy_df[\"size\"].min(), annoy_df[\"size\"].max())\n",
    "print(hnsw_df[\"recall\"].min(), hnsw_df[\"recall\"].max(), hnsw_df[\"size\"].min(), hnsw_df[\"size\"].max())\n",
    "\n",
    "print(annoy_df.tail(10))\n",
    "print(hnsw_df.tail(10))"
   ]
  },
  {
   "cell_type": "code",
   "execution_count": 5,
   "metadata": {},
   "outputs": [
    {
     "data": {
      "text/plain": [
       "<Axes: xlabel='recall', ylabel='size'>"
      ]
     },
     "execution_count": 5,
     "metadata": {},
     "output_type": "execute_result"
    },
    {
     "data": {
      "image/png": "[encoded data removed]",
      "text/plain": [
       "<Figure size 640x480 with 1 Axes>"
      ]
     },
     "metadata": {},
     "output_type": "display_data"
    }
   ],
   "source": [
    "import seaborn as sns\n",
    "import matplotlib.pyplot as plt\n",
    "sns.lineplot(data=df.query('recall > 0.6'), x=\"recall\", y=\"size\", hue=\"method\")"
   ]
  },
  {
   "cell_type": "code",
   "execution_count": 6,
   "metadata": {},
   "outputs": [
    {
     "data": {
      "text/plain": [
       "recall            0.62939\n",
       "size         590835.77825\n",
       "tree_nums             110\n",
       "method              annoy\n",
       "Name: 10, dtype: object"
      ]
     },
     "execution_count": 6,
     "metadata": {},
     "output_type": "execute_result"
    }
   ],
   "source": [
    "annoy_df.iloc[10]"
   ]
  },
  {
   "cell_type": "code",
   "execution_count": 7,
   "metadata": {},
   "outputs": [
    {
     "data": {
      "image/png": "[encoded data removed]",
      "text/plain": [
       "<Figure size 640x480 with 1 Axes>"
      ]
     },
     "metadata": {},
     "output_type": "display_data"
    }
   ],
   "source": [
    "size_df = pd.DataFrame(data={\n",
    "    'method': ['annoy', 'hnsw', 'bspli'],\n",
    "    'size': [818987.46575, 181598.780203, 981.347 ]\n",
    "})\n",
    "\n",
    "ax =  sns.barplot(data=size_df, x=\"method\", y=\"size\", log=True)\n",
    "ax.set( ylabel='size (KB)')\n",
    "\n",
    "plt.show()"
   ]
  }
 ],
 "metadata": {
  "kernelspec": {
   "display_name": "ml",
   "language": "python",
   "name": "python3"
  },
  "language_info": {
   "codemirror_mode": {
    "name": "ipython",
    "version": 3
   },
   "file_extension": ".py",
   "mimetype": "text/x-python",
   "name": "python",
   "nbconvert_exporter": "python",
   "pygments_lexer": "ipython3",
   "version": "3.10.11"
  },
  "orig_nbformat": 4
 },
 "nbformat": 4,
 "nbformat_minor": 2
}
