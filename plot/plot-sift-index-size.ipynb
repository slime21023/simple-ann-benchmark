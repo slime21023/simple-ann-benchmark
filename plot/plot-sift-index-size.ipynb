{
 "cells": [
  {
   "cell_type": "code",
   "execution_count": 3,
   "metadata": {},
   "outputs": [],
   "source": [
    "import pandas as pd\n",
    "\n",
    "annoy_df = pd.read_csv('../results/index-size/sift-ann.csv')\n",
    "hnsw_df = pd.read_csv('../results/index-size/sift-hnsw.csv')\n",
    "\n",
    "size = 512000.128\n",
    "\n",
    "annoy_df['size']  = annoy_df['size'] - size\n",
    "hnsw_df['size'] = hnsw_df['size'] - size\n",
    "\n",
    "annoy_df['method'] = \"annoy\"\n",
    "hnsw_df['method'] = \"hnsw\"\n"
   ]
  },
  {
   "cell_type": "code",
   "execution_count": 6,
   "metadata": {},
   "outputs": [
    {
     "data": {
      "text/html": [
       "<div>\n",
       "<style scoped>\n",
       "    .dataframe tbody tr th:only-of-type {\n",
       "        vertical-align: middle;\n",
       "    }\n",
       "\n",
       "    .dataframe tbody tr th {\n",
       "        vertical-align: top;\n",
       "    }\n",
       "\n",
       "    .dataframe thead th {\n",
       "        text-align: right;\n",
       "    }\n",
       "</style>\n",
       "<table border=\"1\" class=\"dataframe\">\n",
       "  <thead>\n",
       "    <tr style=\"text-align: right;\">\n",
       "      <th></th>\n",
       "      <th>recall</th>\n",
       "      <th>size</th>\n",
       "      <th>tree_nums</th>\n",
       "      <th>method</th>\n",
       "    </tr>\n",
       "  </thead>\n",
       "  <tbody>\n",
       "    <tr>\n",
       "      <th>10</th>\n",
       "      <td>0.90692</td>\n",
       "      <td>1.266055e+06</td>\n",
       "      <td>110</td>\n",
       "      <td>annoy</td>\n",
       "    </tr>\n",
       "    <tr>\n",
       "      <th>11</th>\n",
       "      <td>0.91445</td>\n",
       "      <td>1.380598e+06</td>\n",
       "      <td>120</td>\n",
       "      <td>annoy</td>\n",
       "    </tr>\n",
       "    <tr>\n",
       "      <th>12</th>\n",
       "      <td>0.91885</td>\n",
       "      <td>1.495374e+06</td>\n",
       "      <td>130</td>\n",
       "      <td>annoy</td>\n",
       "    </tr>\n",
       "    <tr>\n",
       "      <th>13</th>\n",
       "      <td>0.92741</td>\n",
       "      <td>1.610178e+06</td>\n",
       "      <td>140</td>\n",
       "      <td>annoy</td>\n",
       "    </tr>\n",
       "    <tr>\n",
       "      <th>14</th>\n",
       "      <td>0.92984</td>\n",
       "      <td>1.725026e+06</td>\n",
       "      <td>150</td>\n",
       "      <td>annoy</td>\n",
       "    </tr>\n",
       "  </tbody>\n",
       "</table>\n",
       "</div>"
      ],
      "text/plain": [
       "     recall          size  tree_nums method\n",
       "10  0.90692  1.266055e+06        110  annoy\n",
       "11  0.91445  1.380598e+06        120  annoy\n",
       "12  0.91885  1.495374e+06        130  annoy\n",
       "13  0.92741  1.610178e+06        140  annoy\n",
       "14  0.92984  1.725026e+06        150  annoy"
      ]
     },
     "execution_count": 6,
     "metadata": {},
     "output_type": "execute_result"
    }
   ],
   "source": [
    "annoy_df.tail()"
   ]
  },
  {
   "cell_type": "code",
   "execution_count": 7,
   "metadata": {},
   "outputs": [
    {
     "data": {
      "text/html": [
       "<div>\n",
       "<style scoped>\n",
       "    .dataframe tbody tr th:only-of-type {\n",
       "        vertical-align: middle;\n",
       "    }\n",
       "\n",
       "    .dataframe tbody tr th {\n",
       "        vertical-align: top;\n",
       "    }\n",
       "\n",
       "    .dataframe thead th {\n",
       "        text-align: right;\n",
       "    }\n",
       "</style>\n",
       "<table border=\"1\" class=\"dataframe\">\n",
       "  <thead>\n",
       "    <tr style=\"text-align: right;\">\n",
       "      <th></th>\n",
       "      <th>recall</th>\n",
       "      <th>size</th>\n",
       "      <th>M</th>\n",
       "      <th>method</th>\n",
       "    </tr>\n",
       "  </thead>\n",
       "  <tbody>\n",
       "    <tr>\n",
       "      <th>10</th>\n",
       "      <td>0.89601</td>\n",
       "      <td>7.536410e+05</td>\n",
       "      <td>96</td>\n",
       "      <td>hnsw</td>\n",
       "    </tr>\n",
       "    <tr>\n",
       "      <th>11</th>\n",
       "      <td>0.90067</td>\n",
       "      <td>8.161530e+05</td>\n",
       "      <td>104</td>\n",
       "      <td>hnsw</td>\n",
       "    </tr>\n",
       "    <tr>\n",
       "      <th>12</th>\n",
       "      <td>0.90642</td>\n",
       "      <td>8.786419e+05</td>\n",
       "      <td>112</td>\n",
       "      <td>hnsw</td>\n",
       "    </tr>\n",
       "    <tr>\n",
       "      <th>13</th>\n",
       "      <td>0.90684</td>\n",
       "      <td>9.411437e+05</td>\n",
       "      <td>120</td>\n",
       "      <td>hnsw</td>\n",
       "    </tr>\n",
       "    <tr>\n",
       "      <th>14</th>\n",
       "      <td>0.90784</td>\n",
       "      <td>1.003643e+06</td>\n",
       "      <td>128</td>\n",
       "      <td>hnsw</td>\n",
       "    </tr>\n",
       "  </tbody>\n",
       "</table>\n",
       "</div>"
      ],
      "text/plain": [
       "     recall          size    M method\n",
       "10  0.89601  7.536410e+05   96   hnsw\n",
       "11  0.90067  8.161530e+05  104   hnsw\n",
       "12  0.90642  8.786419e+05  112   hnsw\n",
       "13  0.90684  9.411437e+05  120   hnsw\n",
       "14  0.90784  1.003643e+06  128   hnsw"
      ]
     },
     "execution_count": 7,
     "metadata": {},
     "output_type": "execute_result"
    }
   ],
   "source": [
    "hnsw_df.tail()"
   ]
  },
  {
   "cell_type": "code",
   "execution_count": 5,
   "metadata": {},
   "outputs": [
    {
     "data": {
      "text/html": [
       "<div>\n",
       "<style scoped>\n",
       "    .dataframe tbody tr th:only-of-type {\n",
       "        vertical-align: middle;\n",
       "    }\n",
       "\n",
       "    .dataframe tbody tr th {\n",
       "        vertical-align: top;\n",
       "    }\n",
       "\n",
       "    .dataframe thead th {\n",
       "        text-align: right;\n",
       "    }\n",
       "</style>\n",
       "<table border=\"1\" class=\"dataframe\">\n",
       "  <thead>\n",
       "    <tr style=\"text-align: right;\">\n",
       "      <th></th>\n",
       "      <th>method</th>\n",
       "      <th>size</th>\n",
       "      <th>recall</th>\n",
       "    </tr>\n",
       "  </thead>\n",
       "  <tbody>\n",
       "    <tr>\n",
       "      <th>5</th>\n",
       "      <td>hnsw</td>\n",
       "      <td>4.411924e+05</td>\n",
       "      <td>0.86227</td>\n",
       "    </tr>\n",
       "    <tr>\n",
       "      <th>6</th>\n",
       "      <td>hnsw</td>\n",
       "      <td>5.036858e+05</td>\n",
       "      <td>0.87736</td>\n",
       "    </tr>\n",
       "    <tr>\n",
       "      <th>7</th>\n",
       "      <td>hnsw</td>\n",
       "      <td>5.661819e+05</td>\n",
       "      <td>0.88719</td>\n",
       "    </tr>\n",
       "    <tr>\n",
       "      <th>8</th>\n",
       "      <td>hnsw</td>\n",
       "      <td>6.286682e+05</td>\n",
       "      <td>0.89771</td>\n",
       "    </tr>\n",
       "    <tr>\n",
       "      <th>9</th>\n",
       "      <td>hnsw</td>\n",
       "      <td>6.911503e+05</td>\n",
       "      <td>0.89424</td>\n",
       "    </tr>\n",
       "    <tr>\n",
       "      <th>10</th>\n",
       "      <td>hnsw</td>\n",
       "      <td>7.536410e+05</td>\n",
       "      <td>0.89601</td>\n",
       "    </tr>\n",
       "    <tr>\n",
       "      <th>11</th>\n",
       "      <td>hnsw</td>\n",
       "      <td>8.161530e+05</td>\n",
       "      <td>0.90067</td>\n",
       "    </tr>\n",
       "    <tr>\n",
       "      <th>12</th>\n",
       "      <td>hnsw</td>\n",
       "      <td>8.786419e+05</td>\n",
       "      <td>0.90642</td>\n",
       "    </tr>\n",
       "    <tr>\n",
       "      <th>13</th>\n",
       "      <td>hnsw</td>\n",
       "      <td>9.411437e+05</td>\n",
       "      <td>0.90684</td>\n",
       "    </tr>\n",
       "    <tr>\n",
       "      <th>14</th>\n",
       "      <td>hnsw</td>\n",
       "      <td>1.003643e+06</td>\n",
       "      <td>0.90784</td>\n",
       "    </tr>\n",
       "  </tbody>\n",
       "</table>\n",
       "</div>"
      ],
      "text/plain": [
       "   method          size   recall\n",
       "5    hnsw  4.411924e+05  0.86227\n",
       "6    hnsw  5.036858e+05  0.87736\n",
       "7    hnsw  5.661819e+05  0.88719\n",
       "8    hnsw  6.286682e+05  0.89771\n",
       "9    hnsw  6.911503e+05  0.89424\n",
       "10   hnsw  7.536410e+05  0.89601\n",
       "11   hnsw  8.161530e+05  0.90067\n",
       "12   hnsw  8.786419e+05  0.90642\n",
       "13   hnsw  9.411437e+05  0.90684\n",
       "14   hnsw  1.003643e+06  0.90784"
      ]
     },
     "execution_count": 5,
     "metadata": {},
     "output_type": "execute_result"
    }
   ],
   "source": [
    "cols = ['method', 'size', 'recall']\n",
    "\n",
    "df = pd.concat([annoy_df[cols].tail(11), hnsw_df[cols].tail(10)])\n",
    "df.tail(10)"
   ]
  },
  {
   "cell_type": "code",
   "execution_count": 14,
   "metadata": {},
   "outputs": [
    {
     "data": {
      "text/plain": [
       "<Axes: xlabel='recall', ylabel='size'>"
      ]
     },
     "execution_count": 14,
     "metadata": {},
     "output_type": "execute_result"
    },
    {
     "data": {
      "image/png": "[encoded data removed]",
      "text/plain": [
       "<Figure size 640x480 with 1 Axes>"
      ]
     },
     "metadata": {},
     "output_type": "display_data"
    }
   ],
   "source": [
    "import seaborn as sns\n",
    "\n",
    "sns.lineplot(data=df.query('recall > 0.90'), x=\"recall\", y=\"size\", hue=\"method\")"
   ]
  },
  {
   "cell_type": "code",
   "execution_count": 12,
   "metadata": {},
   "outputs": [
    {
     "data": {
      "text/plain": [
       "recall             0.90692\n",
       "size         1266055.34075\n",
       "tree_nums              110\n",
       "method               annoy\n",
       "Name: 10, dtype: object"
      ]
     },
     "execution_count": 12,
     "metadata": {},
     "output_type": "execute_result"
    }
   ],
   "source": [
    "annoy_df.iloc[10]"
   ]
  },
  {
   "cell_type": "code",
   "execution_count": 16,
   "metadata": {},
   "outputs": [
    {
     "data": {
      "text/plain": [
       "<Axes: xlabel='method', ylabel='size'>"
      ]
     },
     "execution_count": 16,
     "metadata": {},
     "output_type": "execute_result"
    },
    {
     "data": {
      "image/png": "[encoded data removed]",
      "text/plain": [
       "<Figure size 640x480 with 1 Axes>"
      ]
     },
     "metadata": {},
     "output_type": "display_data"
    }
   ],
   "source": [
    "size_df = pd.DataFrame(data={\n",
    "    'method': ['annoy', 'hnsw', 'bspli'],\n",
    "    'size': [1266055.34075, 1003642.830984, 233.128 ]\n",
    "})\n",
    "\n",
    "sns.barplot(data=size_df, x=\"method\", y=\"size\", log=True)"
   ]
  }
 ],
 "metadata": {
  "kernelspec": {
   "display_name": "ml",
   "language": "python",
   "name": "python3"
  },
  "language_info": {
   "codemirror_mode": {
    "name": "ipython",
    "version": 3
   },
   "file_extension": ".py",
   "mimetype": "text/x-python",
   "name": "python",
   "nbconvert_exporter": "python",
   "pygments_lexer": "ipython3",
   "version": "3.10.11"
  },
  "orig_nbformat": 4
 },
 "nbformat": 4,
 "nbformat_minor": 2
}
