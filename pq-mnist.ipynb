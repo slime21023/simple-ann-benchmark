{
 "cells": [
  {
   "cell_type": "code",
   "execution_count": 1,
   "metadata": {},
   "outputs": [
    {
     "name": "stdout",
     "output_type": "stream",
     "text": [
      "Requirement already satisfied: tensorflow in d:\\conda\\envs\\ml\\lib\\site-packages (2.12.0)\n",
      "Requirement already satisfied: faiss in d:\\conda\\envs\\ml\\lib\\site-packages (1.7.4)\n",
      "Requirement already satisfied: tensorflow-intel==2.12.0 in d:\\conda\\envs\\ml\\lib\\site-packages (from tensorflow) (2.12.0)\n",
      "Requirement already satisfied: absl-py>=1.0.0 in d:\\conda\\envs\\ml\\lib\\site-packages (from tensorflow-intel==2.12.0->tensorflow) (1.4.0)\n",
      "Requirement already satisfied: astunparse>=1.6.0 in d:\\conda\\envs\\ml\\lib\\site-packages (from tensorflow-intel==2.12.0->tensorflow) (1.6.3)\n",
      "Requirement already satisfied: flatbuffers>=2.0 in d:\\conda\\envs\\ml\\lib\\site-packages (from tensorflow-intel==2.12.0->tensorflow) (23.5.9)\n",
      "Requirement already satisfied: gast<=0.4.0,>=0.2.1 in d:\\conda\\envs\\ml\\lib\\site-packages (from tensorflow-intel==2.12.0->tensorflow) (0.4.0)\n",
      "Requirement already satisfied: google-pasta>=0.1.1 in d:\\conda\\envs\\ml\\lib\\site-packages (from tensorflow-intel==2.12.0->tensorflow) (0.2.0)\n",
      "Requirement already satisfied: h5py>=2.9.0 in d:\\conda\\envs\\ml\\lib\\site-packages (from tensorflow-intel==2.12.0->tensorflow) (3.8.0)\n",
      "Requirement already satisfied: jax>=0.3.15 in d:\\conda\\envs\\ml\\lib\\site-packages (from tensorflow-intel==2.12.0->tensorflow) (0.4.10)\n",
      "Requirement already satisfied: libclang>=13.0.0 in d:\\conda\\envs\\ml\\lib\\site-packages (from tensorflow-intel==2.12.0->tensorflow) (16.0.0)\n",
      "Requirement already satisfied: numpy<1.24,>=1.22 in d:\\conda\\envs\\ml\\lib\\site-packages (from tensorflow-intel==2.12.0->tensorflow) (1.23.5)\n",
      "Requirement already satisfied: opt-einsum>=2.3.2 in d:\\conda\\envs\\ml\\lib\\site-packages (from tensorflow-intel==2.12.0->tensorflow) (3.3.0)\n",
      "Requirement already satisfied: packaging in d:\\conda\\envs\\ml\\lib\\site-packages (from tensorflow-intel==2.12.0->tensorflow) (23.1)\n",
      "Requirement already satisfied: protobuf!=4.21.0,!=4.21.1,!=4.21.2,!=4.21.3,!=4.21.4,!=4.21.5,<5.0.0dev,>=3.20.3 in d:\\conda\\envs\\ml\\lib\\site-packages (from tensorflow-intel==2.12.0->tensorflow) (4.23.0)\n",
      "Requirement already satisfied: setuptools in d:\\conda\\envs\\ml\\lib\\site-packages (from tensorflow-intel==2.12.0->tensorflow) (67.8.0)\n",
      "Requirement already satisfied: six>=1.12.0 in d:\\conda\\envs\\ml\\lib\\site-packages (from tensorflow-intel==2.12.0->tensorflow) (1.16.0)\n",
      "Requirement already satisfied: termcolor>=1.1.0 in d:\\conda\\envs\\ml\\lib\\site-packages (from tensorflow-intel==2.12.0->tensorflow) (2.3.0)\n",
      "Requirement already satisfied: typing-extensions>=3.6.6 in d:\\conda\\envs\\ml\\lib\\site-packages (from tensorflow-intel==2.12.0->tensorflow) (4.5.0)\n",
      "Requirement already satisfied: wrapt<1.15,>=1.11.0 in d:\\conda\\envs\\ml\\lib\\site-packages (from tensorflow-intel==2.12.0->tensorflow) (1.14.1)\n",
      "Requirement already satisfied: grpcio<2.0,>=1.24.3 in d:\\conda\\envs\\ml\\lib\\site-packages (from tensorflow-intel==2.12.0->tensorflow) (1.54.2)\n",
      "Requirement already satisfied: tensorboard<2.13,>=2.12 in d:\\conda\\envs\\ml\\lib\\site-packages (from tensorflow-intel==2.12.0->tensorflow) (2.12.3)\n",
      "Requirement already satisfied: tensorflow-estimator<2.13,>=2.12.0 in d:\\conda\\envs\\ml\\lib\\site-packages (from tensorflow-intel==2.12.0->tensorflow) (2.12.0)\n",
      "Requirement already satisfied: keras<2.13,>=2.12.0 in d:\\conda\\envs\\ml\\lib\\site-packages (from tensorflow-intel==2.12.0->tensorflow) (2.12.0)\n",
      "Requirement already satisfied: tensorflow-io-gcs-filesystem>=0.23.1 in d:\\conda\\envs\\ml\\lib\\site-packages (from tensorflow-intel==2.12.0->tensorflow) (0.31.0)\n",
      "Requirement already satisfied: wheel<1.0,>=0.23.0 in d:\\conda\\envs\\ml\\lib\\site-packages (from astunparse>=1.6.0->tensorflow-intel==2.12.0->tensorflow) (0.38.4)\n",
      "Requirement already satisfied: ml-dtypes>=0.1.0 in d:\\conda\\envs\\ml\\lib\\site-packages (from jax>=0.3.15->tensorflow-intel==2.12.0->tensorflow) (0.1.0)\n",
      "Requirement already satisfied: scipy>=1.7 in d:\\conda\\envs\\ml\\lib\\site-packages (from jax>=0.3.15->tensorflow-intel==2.12.0->tensorflow) (1.10.1)\n",
      "Requirement already satisfied: google-auth<3,>=1.6.3 in d:\\conda\\envs\\ml\\lib\\site-packages (from tensorboard<2.13,>=2.12->tensorflow-intel==2.12.0->tensorflow) (2.18.0)\n",
      "Requirement already satisfied: google-auth-oauthlib<1.1,>=0.5 in d:\\conda\\envs\\ml\\lib\\site-packages (from tensorboard<2.13,>=2.12->tensorflow-intel==2.12.0->tensorflow) (1.0.0)\n",
      "Requirement already satisfied: markdown>=2.6.8 in d:\\conda\\envs\\ml\\lib\\site-packages (from tensorboard<2.13,>=2.12->tensorflow-intel==2.12.0->tensorflow) (3.4.3)\n",
      "Requirement already satisfied: requests<3,>=2.21.0 in d:\\conda\\envs\\ml\\lib\\site-packages (from tensorboard<2.13,>=2.12->tensorflow-intel==2.12.0->tensorflow) (2.29.0)\n",
      "Requirement already satisfied: tensorboard-data-server<0.8.0,>=0.7.0 in d:\\conda\\envs\\ml\\lib\\site-packages (from tensorboard<2.13,>=2.12->tensorflow-intel==2.12.0->tensorflow) (0.7.0)\n",
      "Requirement already satisfied: werkzeug>=1.0.1 in d:\\conda\\envs\\ml\\lib\\site-packages (from tensorboard<2.13,>=2.12->tensorflow-intel==2.12.0->tensorflow) (2.3.4)\n",
      "Requirement already satisfied: cachetools<6.0,>=2.0.0 in d:\\conda\\envs\\ml\\lib\\site-packages (from google-auth<3,>=1.6.3->tensorboard<2.13,>=2.12->tensorflow-intel==2.12.0->tensorflow) (5.3.0)\n",
      "Requirement already satisfied: pyasn1-modules>=0.2.1 in d:\\conda\\envs\\ml\\lib\\site-packages (from google-auth<3,>=1.6.3->tensorboard<2.13,>=2.12->tensorflow-intel==2.12.0->tensorflow) (0.3.0)\n",
      "Requirement already satisfied: urllib3<2.0 in d:\\conda\\envs\\ml\\lib\\site-packages (from google-auth<3,>=1.6.3->tensorboard<2.13,>=2.12->tensorflow-intel==2.12.0->tensorflow) (1.26.15)\n",
      "Requirement already satisfied: rsa<5,>=3.1.4 in d:\\conda\\envs\\ml\\lib\\site-packages (from google-auth<3,>=1.6.3->tensorboard<2.13,>=2.12->tensorflow-intel==2.12.0->tensorflow) (4.9)\n",
      "Requirement already satisfied: requests-oauthlib>=0.7.0 in d:\\conda\\envs\\ml\\lib\\site-packages (from google-auth-oauthlib<1.1,>=0.5->tensorboard<2.13,>=2.12->tensorflow-intel==2.12.0->tensorflow) (1.3.1)\n",
      "Requirement already satisfied: charset-normalizer<4,>=2 in d:\\conda\\envs\\ml\\lib\\site-packages (from requests<3,>=2.21.0->tensorboard<2.13,>=2.12->tensorflow-intel==2.12.0->tensorflow) (3.1.0)\n",
      "Requirement already satisfied: idna<4,>=2.5 in d:\\conda\\envs\\ml\\lib\\site-packages (from requests<3,>=2.21.0->tensorboard<2.13,>=2.12->tensorflow-intel==2.12.0->tensorflow) (3.4)\n",
      "Requirement already satisfied: certifi>=2017.4.17 in d:\\conda\\envs\\ml\\lib\\site-packages (from requests<3,>=2.21.0->tensorboard<2.13,>=2.12->tensorflow-intel==2.12.0->tensorflow) (2023.5.7)\n",
      "Requirement already satisfied: MarkupSafe>=2.1.1 in d:\\conda\\envs\\ml\\lib\\site-packages (from werkzeug>=1.0.1->tensorboard<2.13,>=2.12->tensorflow-intel==2.12.0->tensorflow) (2.1.1)\n",
      "Requirement already satisfied: pyasn1<0.6.0,>=0.4.6 in d:\\conda\\envs\\ml\\lib\\site-packages (from pyasn1-modules>=0.2.1->google-auth<3,>=1.6.3->tensorboard<2.13,>=2.12->tensorflow-intel==2.12.0->tensorflow) (0.5.0)\n",
      "Requirement already satisfied: oauthlib>=3.0.0 in d:\\conda\\envs\\ml\\lib\\site-packages (from requests-oauthlib>=0.7.0->google-auth-oauthlib<1.1,>=0.5->tensorboard<2.13,>=2.12->tensorflow-intel==2.12.0->tensorflow) (3.2.2)\n"
     ]
    }
   ],
   "source": [
    "!pip install tensorflow faiss"
   ]
  },
  {
   "attachments": {},
   "cell_type": "markdown",
   "metadata": {},
   "source": [
    "### Prepare the dataset"
   ]
  },
  {
   "cell_type": "code",
   "execution_count": 2,
   "metadata": {},
   "outputs": [
    {
     "name": "stdout",
     "output_type": "stream",
     "text": [
      "(60000, 28, 28)\n"
     ]
    },
    {
     "data": {
      "text/plain": [
       "(60000, 784)"
      ]
     },
     "execution_count": 2,
     "metadata": {},
     "output_type": "execute_result"
    }
   ],
   "source": [
    "import numpy as np\n",
    "from tensorflow import keras\n",
    "\n",
    "# Load the data and split it between train and test sets\n",
    "(x_train, y_train), (x_test, y_test) = keras.datasets.mnist.load_data()\n",
    "\n",
    "print(x_train.shape)\n",
    "\n",
    "mnist = x_train.reshape(60000, 28*28)\n",
    "mnist.shape"
   ]
  },
  {
   "attachments": {},
   "cell_type": "markdown",
   "metadata": {},
   "source": [
    "### Test the index"
   ]
  },
  {
   "cell_type": "code",
   "execution_count": 3,
   "metadata": {},
   "outputs": [],
   "source": [
    "import time\n",
    "import faiss\n",
    "\n",
    "faiss.omp_set_num_threads(1)"
   ]
  },
  {
   "cell_type": "code",
   "execution_count": 38,
   "metadata": {},
   "outputs": [
    {
     "name": "stdout",
     "output_type": "stream",
     "text": [
      "False\n",
      "[[   40 34359 19446 17928 47434  3714 34613 50709  3604 44210 45366 57855\n",
      "   3418 33992 18741 32765 49512  5530 15786 36240 37518 34426 18852  6665\n",
      "    838 46984 40694  9161 20810 56559 43770 45220 23492 47440 25822 49440\n",
      "  31045 39095  8166 30337 36968  2762  4772 29666 11178 49964 44158 52362\n",
      "  48444 40864  9173 21379 14234 55080 16932 56192 15380 14126 34423 12436\n",
      "  30209 18389  1910 26960  7060 32979  4766 20760 46507 17711 37014 37948\n",
      "  35108  8602 31916 40140 22794 56980 43286 41640 54816 23396  2227 33942\n",
      "  16345 56834 49876 11412 32859 44556 50842 45926  4070 53436 12952 40516\n",
      "  37232 41852 38463 45693]]\n",
      "[[   40 19446 34359 47434 34613 50709 17928  3604  3714  3418 44210 57855\n",
      "  45366 32765  5530 49512 18741 33992 18852 15786 45220  6665   838 37518\n",
      "  43770 46984  9161 49440 34426 25822 36240 20810 40694 31045  2762 23492\n",
      "  47440 30337 56559  8166 29666 49964 36968 40864 39095 21379  4772 14234\n",
      "  44158 55080  1910 34423 46507 11178 48444 37014 16932  9173 12436 56192\n",
      "  49876 15380 32979 14126 52362  8602 37948 11412  4766 20760 26960 18389\n",
      "  16345 17711 30209 56980 22794 40140 31916 53436 12952 35108 50842 54816\n",
      "   7060 23396 40516 32859 41852  4070 41640 27028 45693 33942 45926  2227\n",
      "  43286 25899 44556 46470]]\n"
     ]
    }
   ],
   "source": [
    "d = mnist.shape[1]\n",
    "\n",
    "m = 196\n",
    "nbits = 9\n",
    "PQ = faiss.IndexPQ(d, m, nbits)\n",
    "print(PQ.is_trained)\n",
    "PQ.train(mnist)\n",
    "PQ.add(mnist)\n",
    "\n",
    "D, I = PQ.search(mnist[40].reshape(1, mnist.shape[1]), 100)\n",
    "print(I)\n",
    "\n",
    "flat = faiss.IndexFlatL2(mnist.shape[1])\n",
    "flat.add(mnist)\n",
    "\n",
    "D, FLAT_I = flat.search(mnist[40].reshape(1, mnist.shape[1]), k=100) \n",
    "print(FLAT_I)"
   ]
  },
  {
   "cell_type": "code",
   "execution_count": 39,
   "metadata": {},
   "outputs": [
    {
     "data": {
      "text/plain": [
       "97"
      ]
     },
     "execution_count": 39,
     "metadata": {},
     "output_type": "execute_result"
    }
   ],
   "source": [
    "# Calculate the recall\n",
    "I = I.flatten()\n",
    "FLAT_I = FLAT_I.flatten()\n",
    "sum([1 for i in I if i in FLAT_I])"
   ]
  },
  {
   "cell_type": "code",
   "execution_count": 40,
   "metadata": {},
   "outputs": [],
   "source": [
    "from faiss import write_index\n",
    "write_index(PQ, 'save/PQ-b9.index')"
   ]
  },
  {
   "attachments": {},
   "cell_type": "markdown",
   "metadata": {},
   "source": [
    "### Benchmark"
   ]
  },
  {
   "cell_type": "code",
   "execution_count": 41,
   "metadata": {},
   "outputs": [
    {
     "name": "stdout",
     "output_type": "stream",
     "text": [
      "[1.3216912746429443, 2.3913321495056152, 6.022188186645508, 16.5054669380188, 46.799458742141724, 138.3229238986969, 229.77409482002258]\n"
     ]
    }
   ],
   "source": [
    "import time\n",
    "\n",
    "bits = [3, 4, 5, 6, 7, 8, 9]\n",
    "indexes =[]\n",
    "build_time=[]\n",
    "\n",
    "def build_index(data, n_bits, m=196):\n",
    "    index = faiss.IndexPQ(data.shape[1], m, n_bits)\n",
    "    index.train(data)\n",
    "    index.add(data)\n",
    "    return index\n",
    "\n",
    "for n_bits in bits:\n",
    "    start = time.time()\n",
    "    index = build_index(mnist, n_bits=n_bits)\n",
    "    btime = time.time() - start\n",
    "    build_time.append(btime)\n",
    "    indexes.append(index)\n",
    "\n",
    "print(build_time)"
   ]
  },
  {
   "cell_type": "code",
   "execution_count": 42,
   "metadata": {},
   "outputs": [
    {
     "name": "stdout",
     "output_type": "stream",
     "text": [
      "[(0.014957114696502686, 0.8367099999999996), (0.014795913457870484, 0.8851699999999963), (0.018281561613082885, 0.9142199999999955), (0.019388645648956298, 0.9358400000000037), (0.021587483167648316, 0.9509500000000112), (0.00530626106262207, 0.9623900000000131), (0.02778329658508301, 0.9700000000000126)]\n"
     ]
    }
   ],
   "source": [
    "def recall(pred, true):\n",
    "    return sum([1 for i in pred if i in true]) / true.size\n",
    "\n",
    "def benchmark_knn_query(data, indexes, size=1000, k=100):\n",
    "    result = []\n",
    "\n",
    "    indices = np.random.choice(data.shape[0], size, replace=False)\n",
    "    for index in indexes:\n",
    "        query_time = 0\n",
    "        cur_recall = 0\n",
    "\n",
    "        # query\n",
    "        for i in indices:\n",
    "            start = time.time()\n",
    "            D, I = index.search(data[i].reshape(1, data.shape[1]), k=k)\n",
    "            query_time += (time.time() - start)\n",
    "            D, FLAT_I = flat.search(data[i].reshape(1, data.shape[1]), k=k) \n",
    "            cur_recall += recall(I.flatten(), FLAT_I.flatten())\n",
    "        \n",
    "        result.append((query_time/1000, cur_recall/1000))\n",
    "\n",
    "    return result\n",
    "\n",
    "result = benchmark_knn_query(mnist, indexes) \n",
    "print(result)   "
   ]
  },
  {
   "cell_type": "code",
   "execution_count": 43,
   "metadata": {},
   "outputs": [
    {
     "data": {
      "image/png": "[encoded data removed]",
      "text/plain": [
       "<Figure size 640x480 with 1 Axes>"
      ]
     },
     "metadata": {},
     "output_type": "display_data"
    }
   ],
   "source": [
    "import pandas as pd\n",
    "\n",
    "df = pd.DataFrame(result, columns=['query_time', 'recall'])\n",
    "df.plot(x='recall', y='query_time',style='+-')\n",
    "\n",
    "import os  \n",
    "os.makedirs('results', exist_ok=True)\n",
    "df.to_csv('results/pq-mnist.csv')"
   ]
  }
 ],
 "metadata": {
  "kernelspec": {
   "display_name": "ml",
   "language": "python",
   "name": "python3"
  },
  "language_info": {
   "codemirror_mode": {
    "name": "ipython",
    "version": 3
   },
   "file_extension": ".py",
   "mimetype": "text/x-python",
   "name": "python",
   "nbconvert_exporter": "python",
   "pygments_lexer": "ipython3",
   "version": "3.10.11"
  },
  "orig_nbformat": 4
 },
 "nbformat": 4,
 "nbformat_minor": 2
}
