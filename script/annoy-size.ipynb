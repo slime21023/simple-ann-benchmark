{
 "cells": [
  {
   "cell_type": "code",
   "execution_count": 1,
   "metadata": {},
   "outputs": [
    {
     "name": "stdout",
     "output_type": "stream",
     "text": [
      "File Size in KB is 191594.8125\n",
      "File Size in KB is 198465.1875\n",
      "File Size in KB is 205280.15625\n",
      "File Size in KB is 212107.4375\n",
      "File Size in KB is 219014.75\n",
      "File Size in KB is 225860.5\n",
      "File Size in KB is 232730.875\n",
      "File Size in KB is 239638.1875\n",
      "File Size in KB is 246644.0\n",
      "File Size in KB is 253532.84375\n",
      "File Size in KB is 260427.84375\n",
      "File Size in KB is 267273.59375\n",
      "File Size in KB is 274174.75\n",
      "File Size in KB is 280971.25\n",
      "File Size in KB is 287761.59375\n"
     ]
    },
    {
     "data": {
      "text/plain": [
       "[191594.8125,\n",
       " 198465.1875,\n",
       " 205280.15625,\n",
       " 212107.4375,\n",
       " 219014.75,\n",
       " 225860.5,\n",
       " 232730.875,\n",
       " 239638.1875,\n",
       " 246644.0,\n",
       " 253532.84375,\n",
       " 260427.84375,\n",
       " 267273.59375,\n",
       " 274174.75,\n",
       " 280971.25,\n",
       " 287761.59375]"
      ]
     },
     "execution_count": 1,
     "metadata": {},
     "output_type": "execute_result"
    }
   ],
   "source": [
    "import pandas as pd\n",
    "import os\n",
    "\n",
    "#mnist annoy\n",
    "tree_nums = [10, 20, 30, 40, 50, 60, 70, 80, 90, 100, 110, 120, 130, 140, 150]\n",
    "result = []\n",
    "\n",
    "for num in tree_nums:\n",
    "    file_name = f'../save/mnist-{num}.ann'\n",
    "    file_stats = os.stat(file_name)\n",
    "    print(f'File Size in KB is {file_stats.st_size / (1024)}')\n",
    "    result.append( file_stats.st_size / 1024)\n",
    "\n",
    "result"
   ]
  },
  {
   "cell_type": "code",
   "execution_count": 2,
   "metadata": {},
   "outputs": [],
   "source": [
    "import seaborn as sns\n",
    "df = pd.read_csv('../results/annoy-mnist.csv', index_col=[0])\n",
    "df['size'] = result\n",
    "\n",
    "\n",
    "mnist_annoy = df[['recall', 'size']].copy()\n",
    "mnist_annoy['tree_nums'] = tree_nums\n",
    "mnist_annoy.to_csv('../results/index-size/mnist-ann.csv', index=False)"
   ]
  },
  {
   "cell_type": "code",
   "execution_count": 3,
   "metadata": {},
   "outputs": [
    {
     "data": {
      "text/plain": [
       "[630351.5625,\n",
       " 745352.4375,\n",
       " 860127.46875,\n",
       " 974834.4375,\n",
       " 1089753.84375,\n",
       " 1204572.1875,\n",
       " 1319270.90625,\n",
       " 1434000.5625,\n",
       " 1548596.15625,\n",
       " 1663373.25,\n",
       " 1778055.46875,\n",
       " 1892598.46875,\n",
       " 2007374.53125,\n",
       " 2122178.4375,\n",
       " 2237025.65625]"
      ]
     },
     "execution_count": 3,
     "metadata": {},
     "output_type": "execute_result"
    }
   ],
   "source": [
    "# sift annoy\n",
    "\n",
    "result = []\n",
    "\n",
    "for num in tree_nums:\n",
    "    file_name = f'../save/sift-{num}.ann'\n",
    "    file_stats = os.stat(file_name)\n",
    "    # print(f'File Size in KB is {file_stats.st_size / (1024)}')\n",
    "    result.append( file_stats.st_size / 1024)\n",
    "\n",
    "result"
   ]
  },
  {
   "cell_type": "code",
   "execution_count": 4,
   "metadata": {},
   "outputs": [],
   "source": [
    "df = pd.read_csv('../results/annoy-sift.csv', index_col=[0])\n",
    "df['size'] = result\n",
    "\n",
    "\n",
    "sift_annoy = df[['recall', 'size']].copy()\n",
    "sift_annoy['tree_nums'] = tree_nums\n",
    "sift_annoy.to_csv('../results/index-size/sift-ann.csv', index=False)"
   ]
  },
  {
   "cell_type": "code",
   "execution_count": 5,
   "metadata": {},
   "outputs": [
    {
     "data": {
      "text/plain": [
       "[1940132.84375,\n",
       " 1997581.21875,\n",
       " 2054600.3125,\n",
       " 2111732.375,\n",
       " 2168781.59375,\n",
       " 2225853.40625,\n",
       " 2282827.3125,\n",
       " 2339816.28125,\n",
       " 2396526.59375,\n",
       " 2453816.8125,\n",
       " 2510835.90625,\n",
       " 2567591.40625,\n",
       " 2624708.40625,\n",
       " 2681765.15625,\n",
       " 2738987.59375]"
      ]
     },
     "execution_count": 5,
     "metadata": {},
     "output_type": "execute_result"
    }
   ],
   "source": [
    "# gist annoy\n",
    "\n",
    "result = []\n",
    "\n",
    "for num in tree_nums:\n",
    "    file_name = f'../save/gist-{num}.ann'\n",
    "    file_stats = os.stat(file_name)\n",
    "    # print(f'File Size in KB is {file_stats.st_size / (1024)}')\n",
    "    result.append( file_stats.st_size / 1024)\n",
    "\n",
    "result"
   ]
  },
  {
   "cell_type": "code",
   "execution_count": 7,
   "metadata": {},
   "outputs": [],
   "source": [
    "df = pd.read_csv('../results/annoy-gist.csv', index_col=[0])\n",
    "df['size'] = result\n",
    "\n",
    "\n",
    "gist_annoy = df[['recall', 'size']].copy()\n",
    "gist_annoy['tree_nums'] = tree_nums\n",
    "gist_annoy.to_csv('../results/index-size/gist-ann.csv', index=False)"
   ]
  }
 ],
 "metadata": {
  "kernelspec": {
   "display_name": "ml",
   "language": "python",
   "name": "python3"
  },
  "language_info": {
   "codemirror_mode": {
    "name": "ipython",
    "version": 3
   },
   "file_extension": ".py",
   "mimetype": "text/x-python",
   "name": "python",
   "nbconvert_exporter": "python",
   "pygments_lexer": "ipython3",
   "version": "3.10.11"
  },
  "orig_nbformat": 4
 },
 "nbformat": 4,
 "nbformat_minor": 2
}
