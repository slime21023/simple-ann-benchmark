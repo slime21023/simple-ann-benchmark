{
 "cells": [
  {
   "cell_type": "code",
   "execution_count": 1,
   "metadata": {},
   "outputs": [
    {
     "data": {
      "text/plain": [
       "[192204.369140625,\n",
       " 195951.888671875,\n",
       " 199698.845703125,\n",
       " 203445.689453125,\n",
       " 207197.845703125,\n",
       " 210945.064453125,\n",
       " 214695.583984375,\n",
       " 218445.208984375,\n",
       " 222192.083984375,\n",
       " 225933.302734375,\n",
       " 229685.458984375,\n",
       " 233436.115234375,\n",
       " 237183.458984375,\n",
       " 240936.771484375,\n",
       " 244689.333984375]"
      ]
     },
     "execution_count": 1,
     "metadata": {},
     "output_type": "execute_result"
    }
   ],
   "source": [
    "import pandas as pd\n",
    "import os\n",
    "\n",
    "#mnist hnsw\n",
    "M = [ 16, 24, 32, 40, 48, 56, 64, 72, 80, 88, 96, 104, 112, 120, 128]\n",
    "result = []\n",
    "\n",
    "for m in M:\n",
    "    file_name = f'../save/mnist-{m}.hnsw'\n",
    "    file_stats = os.stat(file_name)\n",
    "    # print(f'File Size in KB is {file_stats.st_size / (1024)}')\n",
    "    result.append( file_stats.st_size / 1024)\n",
    "\n",
    "result"
   ]
  },
  {
   "cell_type": "code",
   "execution_count": 4,
   "metadata": {},
   "outputs": [],
   "source": [
    "df = pd.read_csv('../results/hnsw-mnist.csv', index_col=[0])\n",
    "df['size'] = result\n",
    "\n",
    "\n",
    "mnist_hnsw = df[['recall', 'size']].copy()\n",
    "mnist_hnsw['M'] = M\n",
    "mnist_hnsw.to_csv('../results/index-size/mnist-hnsw.csv', index=False)"
   ]
  },
  {
   "cell_type": "code",
   "execution_count": 5,
   "metadata": {},
   "outputs": [
    {
     "data": {
      "text/plain": [
       "[640877.306640625,\n",
       " 703288.107421875,\n",
       " 765751.470703125,\n",
       " 828218.345703125,\n",
       " 890704.283203125,\n",
       " 953192.564453125,\n",
       " 1015685.958984375,\n",
       " 1078182.052734375,\n",
       " 1140668.333984375,\n",
       " 1203150.427734375,\n",
       " 1265641.083984375,\n",
       " 1328153.083984375,\n",
       " 1390642.021484375,\n",
       " 1453143.802734375,\n",
       " 1515642.958984375]"
      ]
     },
     "execution_count": 5,
     "metadata": {},
     "output_type": "execute_result"
    }
   ],
   "source": [
    "result = []\n",
    "\n",
    "for m in M:\n",
    "    file_name = f'../save/sift-{m}.hnsw'\n",
    "    file_stats = os.stat(file_name)\n",
    "    # print(f'File Size in KB is {file_stats.st_size / (1024)}')\n",
    "    result.append( file_stats.st_size / 1024)\n",
    "\n",
    "result"
   ]
  },
  {
   "cell_type": "code",
   "execution_count": 7,
   "metadata": {},
   "outputs": [],
   "source": [
    "df = pd.read_csv('../results/hnsw-sift.csv', index_col=[0])\n",
    "df['size'] = result\n",
    "\n",
    "\n",
    "sift_hnsw = df[['recall', 'size']].copy()\n",
    "sift_hnsw['M'] = M\n",
    "sift_hnsw.to_csv('../results/index-size/sift-hnsw.csv', index=False)"
   ]
  },
  {
   "cell_type": "code",
   "execution_count": 8,
   "metadata": {},
   "outputs": [
    {
     "data": {
      "text/plain": [
       "[1945449.744140625,\n",
       " 1976649.888671875,\n",
       " 2007876.970703125,\n",
       " 2039109.751953125,\n",
       " 2070348.033203125,\n",
       " 2101598.908203125,\n",
       " 2132842.583984375,\n",
       " 2164081.146484375,\n",
       " 2195324.896484375,\n",
       " 2226557.271484375,\n",
       " 2257805.833984375,\n",
       " 2289063.240234375,\n",
       " 2320309.083984375,\n",
       " 2351567.083984375,\n",
       " 2382825.583984375]"
      ]
     },
     "execution_count": 8,
     "metadata": {},
     "output_type": "execute_result"
    }
   ],
   "source": [
    "result = []\n",
    "\n",
    "for m in M:\n",
    "    file_name = f'../save/gist-{m}.hnsw'\n",
    "    file_stats = os.stat(file_name)\n",
    "    # print(f'File Size in KB is {file_stats.st_size / (1024)}')\n",
    "    result.append( file_stats.st_size / 1024)\n",
    "\n",
    "result"
   ]
  },
  {
   "cell_type": "code",
   "execution_count": 10,
   "metadata": {},
   "outputs": [],
   "source": [
    "df = pd.read_csv('../results/hnsw-gist.csv', index_col=[0])\n",
    "df['size'] = result\n",
    "\n",
    "\n",
    "gist_hnsw = df[['recall', 'size']].copy()\n",
    "gist_hnsw['M'] = M\n",
    "gist_hnsw.to_csv('../results/index-size/gist-hnsw.csv', index=False)"
   ]
  }
 ],
 "metadata": {
  "kernelspec": {
   "display_name": "ml",
   "language": "python",
   "name": "python3"
  },
  "language_info": {
   "codemirror_mode": {
    "name": "ipython",
    "version": 3
   },
   "file_extension": ".py",
   "mimetype": "text/x-python",
   "name": "python",
   "nbconvert_exporter": "python",
   "pygments_lexer": "ipython3",
   "version": "3.10.11"
  },
  "orig_nbformat": 4
 },
 "nbformat": 4,
 "nbformat_minor": 2
}
