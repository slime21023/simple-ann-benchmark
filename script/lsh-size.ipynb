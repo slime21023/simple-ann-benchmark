{
 "cells": [
  {
   "cell_type": "code",
   "execution_count": null,
   "metadata": {},
   "outputs": [],
   "source": [
    "import pandas as pd\n",
    "import os\n",
    "\n",
    "#mnist lsh\n",
    "bits = [64, 128, 192, 256, 320, 384, 448, 512, 576, 640, 704, 768, 832, 896, 960]\n",
    "result = []\n",
    "\n",
    "for num in bits:\n",
    "    file_name = f'../save/mnist-{num}.lsh'\n",
    "    file_stats = os.stat(file_name)\n",
    "    print(f'File Size in KB is {file_stats.st_size / (1024)}')\n",
    "    result.append( file_stats.st_size / 1024)\n",
    "\n",
    "result"
   ]
  },
  {
   "cell_type": "code",
   "execution_count": 3,
   "metadata": {},
   "outputs": [],
   "source": [
    "df = pd.read_csv('../results/lsh-mnist.csv', index_col=[0])\n",
    "df['size'] = result\n",
    "\n",
    "\n",
    "mnist_lsh = df[['recall', 'size']].copy()\n",
    "mnist_lsh['bits'] = bits\n",
    "mnist_lsh.to_csv('../results/index-size/mnist-lsh.csv', index=False)"
   ]
  },
  {
   "cell_type": "code",
   "execution_count": 4,
   "metadata": {},
   "outputs": [
    {
     "name": "stdout",
     "output_type": "stream",
     "text": [
      "File Size in KB is 7844.5908203125\n",
      "File Size in KB is 15689.0908203125\n",
      "File Size in KB is 23533.5908203125\n",
      "File Size in KB is 31378.0908203125\n",
      "File Size in KB is 39222.5908203125\n",
      "File Size in KB is 47067.0908203125\n",
      "File Size in KB is 54911.5908203125\n",
      "File Size in KB is 62756.0908203125\n",
      "File Size in KB is 70600.5908203125\n",
      "File Size in KB is 78445.0908203125\n",
      "File Size in KB is 86289.5908203125\n",
      "File Size in KB is 94134.0908203125\n",
      "File Size in KB is 101978.5908203125\n",
      "File Size in KB is 109823.0908203125\n",
      "File Size in KB is 117667.5908203125\n"
     ]
    }
   ],
   "source": [
    "# sift lsh\n",
    "\n",
    "result = []\n",
    "\n",
    "for num in bits:\n",
    "    file_name = f'../save/sift-{num}.lsh'\n",
    "    file_stats = os.stat(file_name)\n",
    "    print(f'File Size in KB is {file_stats.st_size / (1024)}')\n",
    "    result.append( file_stats.st_size / 1024)"
   ]
  },
  {
   "cell_type": "code",
   "execution_count": 6,
   "metadata": {},
   "outputs": [],
   "source": [
    "df = pd.read_csv('../results/lsh-sift.csv', index_col=[0])\n",
    "df['size'] = result\n",
    "\n",
    "\n",
    "sift_lsh = df[['recall', 'size']].copy()\n",
    "sift_lsh['bits'] = bits\n",
    "sift_lsh.to_csv('../results/index-size/sift-lsh.csv', index=False)"
   ]
  },
  {
   "cell_type": "code",
   "execution_count": 7,
   "metadata": {},
   "outputs": [
    {
     "name": "stdout",
     "output_type": "stream",
     "text": [
      "File Size in KB is 4146.3408203125\n",
      "File Size in KB is 8292.5908203125\n",
      "File Size in KB is 12438.8408203125\n",
      "File Size in KB is 16585.0908203125\n",
      "File Size in KB is 20731.3408203125\n",
      "File Size in KB is 24877.5908203125\n",
      "File Size in KB is 29023.8408203125\n",
      "File Size in KB is 33170.0908203125\n",
      "File Size in KB is 37316.3408203125\n",
      "File Size in KB is 41462.5908203125\n",
      "File Size in KB is 45608.8408203125\n",
      "File Size in KB is 49755.0908203125\n",
      "File Size in KB is 53901.3408203125\n",
      "File Size in KB is 58047.5908203125\n",
      "File Size in KB is 62193.8408203125\n"
     ]
    }
   ],
   "source": [
    "# gist lsh\n",
    "\n",
    "result = []\n",
    "\n",
    "for num in bits:\n",
    "    file_name = f'../save/gist-{num}.lsh'\n",
    "    file_stats = os.stat(file_name)\n",
    "    print(f'File Size in KB is {file_stats.st_size / (1024)}')\n",
    "    result.append( file_stats.st_size / 1024)"
   ]
  },
  {
   "cell_type": "code",
   "execution_count": 9,
   "metadata": {},
   "outputs": [],
   "source": [
    "df = pd.read_csv('../results/lsh-gist.csv', index_col=[0])\n",
    "df['size'] = result\n",
    "\n",
    "\n",
    "gist_lsh = df[['recall', 'size']].copy()\n",
    "gist_lsh['bits'] = bits\n",
    "gist_lsh.to_csv('../results/index-size/gist-lsh.csv', index=False)"
   ]
  }
 ],
 "metadata": {
  "kernelspec": {
   "display_name": "ml",
   "language": "python",
   "name": "python3"
  },
  "language_info": {
   "codemirror_mode": {
    "name": "ipython",
    "version": 3
   },
   "file_extension": ".py",
   "mimetype": "text/x-python",
   "name": "python",
   "nbconvert_exporter": "python",
   "pygments_lexer": "ipython3",
   "version": "3.10.11"
  },
  "orig_nbformat": 4
 },
 "nbformat": 4,
 "nbformat_minor": 2
}
